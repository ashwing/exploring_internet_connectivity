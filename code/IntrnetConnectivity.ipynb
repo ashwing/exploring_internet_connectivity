{
 "metadata": {
  "name": "",
  "signature": "sha256:31b52b12af91e8515a029d9d85cde234d4de94583903bbc3095a39127facd663"
 },
 "nbformat": 3,
 "nbformat_minor": 0,
 "worksheets": [
  {
   "cells": [
    {
     "cell_type": "code",
     "collapsed": false,
     "input": [
      "import requests\n",
      "\n",
      "srcdir = 'C:\\\\Stuffs\\\\Courses\\\\FCN\\\\Project_AS_Connectivity'\n",
      "asCountry = \"ZA\"\n",
      "asCountryPath = srcdir + '\\\\allocated_AS_'+asCountry+'.txt'\n",
      "asListForCountry = []\n",
      "\n",
      "# Getting list of AS for any country from Regional Registry\n",
      "def populateASList(path, inlist):\n",
      "    asFile = open(path, 'r')\n",
      "    for line in asFile:\n",
      "        dataList = line.split(' ')\n",
      "        inlist.append(dataList[3])\n",
      "    return inlist\n",
      "\n",
      "def getUniqueASList():\n",
      "    asList = []\n",
      "    f = open(srcdir + '\\\\regional_ASpaths.txt', 'r')\n",
      "    for line in f:\n",
      "        asPath = line[line.index('[')+1:line.index(']')]\n",
      "        asPathList = asPath.split(',')\n",
      "        for asIndex in range(len(asPathList)):\n",
      "            as1 = asPathList[asIndex].strip()\n",
      "            if as1 not in asList:\n",
      "                asList.append(as1)\n",
      "    return asList\n",
      "    \n",
      "\n",
      "    \n",
      "# uAsList = getUniqueASList()\n",
      "# writeASCountries(uAsList)\n",
      "\n",
      "asListForCountry = populateASList(asCountryPath, asListForCountry)\n",
      "print len(asListForCountry)\n"
     ],
     "language": "python",
     "metadata": {},
     "outputs": [
      {
       "output_type": "stream",
       "stream": "stdout",
       "text": [
        "311\n"
       ]
      }
     ],
     "prompt_number": 8
    },
    {
     "cell_type": "code",
     "collapsed": false,
     "input": [
      "import json\n",
      "import MySQLdb as mdb\n",
      "\n",
      "uniqueASMap = {}\n",
      "groupIdentifier = {}\n",
      "\n",
      "def getNode(asn, info):\n",
      "    asdict = {}\n",
      "    asdict[\"name\"] = asn + \":\" + info[0] + \":\" + info[1]\n",
      "    if info[1] not in groupIdentifier:\n",
      "        gId = 0\n",
      "    else:\n",
      "        gId = groupIdentifier[info[1]]\n",
      "    asdict[\"group\"] = gId\n",
      "    return asdict\n",
      "\n",
      "def getLink(asn1, asn2):\n",
      "    asdict = {}\n",
      "    asdict[\"source\"] = asn1\n",
      "    asdict[\"target\"] = asn2\n",
      "    asdict[\"value\"] = 1\n",
      "    return asdict\n",
      "\n",
      "def generateASGraphJSON():\n",
      "\n",
      "    f = open(srcdir + '\\\\regional_ASpaths.txt', 'r')\n",
      "    asMap = {}\n",
      "    routerMap = {}\n",
      "    graphMap = {}\n",
      "\n",
      "    nodesList = []\n",
      "    linksList = []\n",
      "    i=0\n",
      "    for line in f:\n",
      "        asPath = line[line.index('[')+1:line.index(']')]\n",
      "        asPathList = asPath.split(',')\n",
      "        for asIndex in range(len(asPathList)-1):\n",
      "            as1 = asPathList[asIndex]\n",
      "            as2 = asPathList[asIndex+1]\n",
      "            as1 = as1.strip()\n",
      "            as2 = as2.strip()\n",
      "            \n",
      "            if as1 not in uniqueASMap:\n",
      "                uniqueASMap[as1] = i\n",
      "                i = i+1\n",
      "                \n",
      "            if as2 not in uniqueASMap:\n",
      "                uniqueASMap[as2] = i\n",
      "                i = i+1\n",
      "            \n",
      "            if int(as1) > int(as2):\n",
      "                tmp = as1\n",
      "                as1 = as2\n",
      "                as2 = tmp\n",
      "            if (as1, as2) in asMap:\n",
      "                asMap[(as1,as2)] = asMap[(as1,as2)]+1\n",
      "            else:\n",
      "                asMap[(as1,as2)] = 1\n",
      "                link = getLink(uniqueASMap[as1],uniqueASMap[as2])\n",
      "                linksList.append(link)\n",
      "      \n",
      "    sortedasn = sorted(uniqueASMap.items(), key = lambda x : x[1])\n",
      "    \n",
      "#     print sortedasn\n",
      "    \n",
      "    for asn in sortedasn:\n",
      "        node = getNode(asn[0])\n",
      "        nodesList.append(node)\n",
      "        \n",
      "    \n",
      "    graphMap[\"nodes\"] = nodesList\n",
      "    graphMap[\"links\"] = linksList\n",
      "    \n",
      "    print graphMap\n",
      "\n",
      "    with open(srcdir + '\\\\aspair_graph.json', 'w') as f1:\n",
      "        f1.write(json.dumps(graphMap))\n",
      " \n",
      "        \n",
      "def generateASGraphJSON(continent_code):\n",
      "    asInfoMap = {}\n",
      "    con = mdb.connect('localhost', 'root', 'root', 'fcn')\n",
      "    with con:\n",
      "        cur = con.cursor()\n",
      "        cur.execute(\"select distinct asn,isp,country from ipdetails where continent_code='\"+continent_code+\"'\")\n",
      "\n",
      "        rows = cur.fetchall()\n",
      "        groupIndex = 1\n",
      "\n",
      "        for row in rows:\n",
      "            if row[0] is not None:\n",
      "                asInfoMap[row[0][2:]] = (row[1],row[2])\n",
      "                if row[2] not in groupIdentifier:\n",
      "                    groupIdentifier[row[2]] = groupIndex\n",
      "                    groupIndex += 1\n",
      "                    \n",
      "                \n",
      "    \n",
      "        f = open(srcdir + '\\\\regional_ASpaths.txt', 'r')\n",
      "        asMap = {}\n",
      "        routerMap = {}\n",
      "        graphMap = {}\n",
      "\n",
      "        nodesList = []\n",
      "        linksList = []\n",
      "        i=0\n",
      "        for line in f:\n",
      "            asPath = line[line.index('[')+1:line.index(']')]\n",
      "            asPathList = asPath.split(',')\n",
      "            for asIndex in range(len(asPathList)-1):\n",
      "                as1 = asPathList[asIndex]\n",
      "                as2 = asPathList[asIndex+1]\n",
      "                as1 = as1.strip()\n",
      "                as2 = as2.strip()\n",
      "\n",
      "                if as1 in asInfoMap or as2 in asInfoMap:\n",
      "\n",
      "                    if as1 not in uniqueASMap:\n",
      "                        uniqueASMap[as1] = i\n",
      "                        i = i+1\n",
      "\n",
      "                    if as2 not in uniqueASMap:\n",
      "                        uniqueASMap[as2] = i\n",
      "                        i = i+1\n",
      "\n",
      "                    if int(as1) > int(as2):\n",
      "                        tmp = as1\n",
      "                        as1 = as2\n",
      "                        as2 = tmp\n",
      "                    if (as1, as2) in asMap:\n",
      "                        asMap[(as1,as2)] = asMap[(as1,as2)]+1\n",
      "                    else:\n",
      "                        asMap[(as1,as2)] = 1\n",
      "                        link = getLink(uniqueASMap[as1],uniqueASMap[as2])\n",
      "                        linksList.append(link)\n",
      "\n",
      "        sortedasn = sorted(uniqueASMap.items(), key = lambda x : x[1])\n",
      "\n",
      "    #     print sortedasn\n",
      "\n",
      "        for asn in sortedasn:\n",
      "            if asn[0] not in asInfoMap:\n",
      "                cur = con.cursor()\n",
      "                cur.execute(\"select distinct isp, country from ipdetails where asn = 'AS\"+asn[0]+\"'\")\n",
      "                rows = cur.fetchall()\n",
      "                \n",
      "                if len(rows) == 0:\n",
      "                    info = (\"NoISPData\",\"NoCountryData\")\n",
      "                elif len(rows) > 1:\n",
      "                    row = rows[0]\n",
      "                    info = (row[0],\"MultipleCountries\")\n",
      "                else:\n",
      "                    row = rows[0]\n",
      "                    if row is not None:\n",
      "                        info = (row[0], row[1])\n",
      "                    else:\n",
      "                        info = (\"UnknownISP\",\"UnknownCountry\")\n",
      "            else:\n",
      "                info = asInfoMap[asn[0]]\n",
      "                \n",
      "#             if info[1] not in groupIdentifier:\n",
      "#                 groupIdentifier[info[1]] = groupIndex\n",
      "#                 groupIndex += 1\n",
      "\n",
      "            node = getNode(asn[0], info)\n",
      "            nodesList.append(node)\n",
      "\n",
      "\n",
      "        graphMap[\"nodes\"] = nodesList\n",
      "        graphMap[\"links\"] = linksList\n",
      "\n",
      "        print graphMap\n",
      "\n",
      "        with open(srcdir + '\\\\aspair_graph_'+continent_code+'.json', 'w') as f1:\n",
      "            f1.write(json.dumps(graphMap))\n",
      "        \n",
      "# generateASGraphJSON()\n",
      "generateASGraphJSON('AF')\n",
      "#     print sorted(asMap.items(), key = lambda x : x[1], reverse=True)\n",
      "        "
     ],
     "language": "python",
     "metadata": {},
     "outputs": [
      {
       "output_type": "stream",
       "stream": "stdout",
       "text": [
        "{'nodes': [{'group': 1, 'name': '33762:WBS:South Africa'}, {'group': 0, 'name': '2905:NoISPData:NoCountryData'}, {'group': 1, 'name': '5713:SAIX-NET:South Africa'}, {'group': 1, 'name': '37457:Telkom-Internet:South Africa'}, {'group': 1, 'name': '10474:MWEB-10474:South Africa'}, {'group': 1, 'name': '36937:Neotel Pty Ltd:South Africa'}, {'group': 3, 'name': '37084:Simbanet (T) Ltd:Tanzania, United Republic of'}, {'group': 3, 'name': '37045:tznic:Tanzania, United Republic of'}, {'group': 1, 'name': '37403:INFOGRO:South Africa'}, {'group': 1, 'name': '37105:Neology (Pty) Ltd:South Africa'}, {'group': 1, 'name': '3741:IS:South Africa'}, {'group': 1, 'name': '32653:ENETWORKS:South Africa'}, {'group': 1, 'name': '37520:Rhodes-Univ:South Africa'}, {'group': 2, 'name': '36996:TELECOM-NAMIBIA:Namibia'}, {'group': 1, 'name': '36877:IWAY_AFRICA:South Africa'}, {'group': 2, 'name': '33763:Paratus-Telecom:Namibia'}], 'links': [{'source': 1, 'target': 0, 'value': 1}, {'source': 1, 'target': 2, 'value': 1}, {'source': 2, 'target': 3, 'value': 1}, {'source': 2, 'target': 4, 'value': 1}, {'source': 2, 'target': 5, 'value': 1}, {'source': 7, 'target': 6, 'value': 1}, {'source': 9, 'target': 8, 'value': 1}, {'source': 10, 'target': 9, 'value': 1}, {'source': 10, 'target': 11, 'value': 1}, {'source': 2, 'target': 9, 'value': 1}, {'source': 5, 'target': 12, 'value': 1}, {'source': 10, 'target': 2, 'value': 1}, {'source': 2, 'target': 11, 'value': 1}, {'source': 14, 'target': 13, 'value': 1}, {'source': 15, 'target': 14, 'value': 1}]}\n"
       ]
      }
     ],
     "prompt_number": 44
    },
    {
     "cell_type": "code",
     "collapsed": false,
     "input": [],
     "language": "python",
     "metadata": {},
     "outputs": [
      {
       "output_type": "stream",
       "stream": "stdout",
       "text": [
        "IN\n"
       ]
      }
     ],
     "prompt_number": 16
    },
    {
     "cell_type": "code",
     "collapsed": false,
     "input": [],
     "language": "python",
     "metadata": {},
     "outputs": []
    }
   ],
   "metadata": {}
  }
 ]
}