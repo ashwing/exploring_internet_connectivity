{
 "metadata": {
  "name": "",
  "signature": "sha256:687e711b3e90363378aecafcb37c93fbc8cc80421244fc7c00b06837def9fc6c"
 },
 "nbformat": 3,
 "nbformat_minor": 0,
 "worksheets": [
  {
   "cells": [
    {
     "cell_type": "code",
     "collapsed": false,
     "input": [
      "import requests\n",
      "import json\n",
      "\n",
      "srcdir = 'C:\\\\Stuffs\\\\Courses\\\\FCN\\\\Project_AS_Connectivity'\n",
      "\n",
      "def collectUniqueIP():\n",
      "    ipList = []\n",
      "    f = open(srcdir + '\\\\regional_ASpaths.txt', 'r')\n",
      "    for line in f:\n",
      "        delimIndex = line.index('|')+1\n",
      "        ipHop = line[line.index('|', delimIndex)+1:]\n",
      "        ipHopList = ipHop.split()\n",
      "        for ipIndex in range(len(ipHopList)):\n",
      "            ip = ipHopList[ipIndex].strip()\n",
      "            if ip not in ipList:\n",
      "                ipList.append(ip)\n",
      "    return ipList\n",
      "\n",
      "\n",
      "\n",
      "uniqueIps = collectUniqueIP()\n",
      "print(len(uniqueIps))\n",
      "\n"
     ],
     "language": "python",
     "metadata": {},
     "outputs": [
      {
       "output_type": "stream",
       "stream": "stdout",
       "text": [
        "24412\n"
       ]
      }
     ],
     "prompt_number": 29
    },
    {
     "cell_type": "code",
     "collapsed": false,
     "input": [
      "\n",
      "\n",
      "def getIpsinFile():\n",
      "    ipsInFile = []\n",
      "    with open(srcdir + '\\\\ip_details_telize.txt', 'r') as f:\n",
      "        for line in f:\n",
      "            if line != '\\n':\n",
      "                obj = json.loads(line)\n",
      "                if obj[\"ip\"] not in ipsInFile:\n",
      "                    ipsInFile.append(obj[\"ip\"])\n",
      "    return ipsInFile\n",
      "                \n",
      "\n",
      "def writeIPDetails(ipList, ipsInFile):\n",
      "    with open(srcdir+'\\\\ip_details_telize.txt', 'a') as f:\n",
      "        for ip in ipList:\n",
      "#             r = requests.get(\"http://ip-api.com/json/\"+ip)\n",
      "            if ip not in ipsInFile:\n",
      "                r = requests.get(\"http://www.telize.com/geoip/\"+ip)\n",
      "                resp = r.content\n",
      "                f.write(resp+'\\n')\n",
      "            \n",
      "# \n",
      "ipsInFile = getIpsinFile()\n",
      "writeIPDetails(uniqueIps, ipsInFile)\n"
     ],
     "language": "python",
     "metadata": {},
     "outputs": [],
     "prompt_number": 16
    },
    {
     "cell_type": "code",
     "collapsed": false,
     "input": [
      "import MySQLdb as mdb\n",
      "import string\n",
      "import json\n",
      "\n",
      "srcdir = 'C:\\\\Stuffs\\\\Courses\\\\FCN\\\\Project_AS_Connectivity'\n",
      "\n",
      "\n",
      "def loadIpDetailsToMySql():\n",
      "    srcdir2 = 'C:\\\\Stuffs\\\\Courses\\\\FCN'\n",
      "    validFields = ['ip','country_code','country','region_code','region','postal_code','continent_code',\n",
      "                   'latitude','longitude','area_code','asn','isp']\n",
      "    with open(srcdir + '\\\\ip_details_telize.txt', 'r') as f:\n",
      "        con = mdb.connect('localhost', 'root', '', 'fcn')\n",
      "        with con:\n",
      "            cur = con.cursor()\n",
      "            for line in f:\n",
      "                if line != '\\n':\n",
      "                    obj = json.loads(line)\n",
      "                    fieldStr = \"\"\n",
      "                    valueStr = \"\"\n",
      "                    for key in obj:\n",
      "                        if key in validFields:\n",
      "                            if fieldStr == \"\":\n",
      "                                fieldStr = key\n",
      "                                if key in ['latitude','longitude']:\n",
      "                                    value = str(obj[key])\n",
      "                                else:\n",
      "                                    value = obj[key]\n",
      "                                value = value.replace(\"'\",\"\")\n",
      "#                                 value = filter(lambda x: x in string.printable, value)\n",
      "#                                 value = value.encode('ascii',errors='ignore')\n",
      "                                valueStr = \"'\"+value+\"'\"\n",
      "                                \n",
      "                            else:\n",
      "                                fieldStr += \",\"+key\n",
      "                                if key in ['latitude','longitude']:\n",
      "                                    value = str(obj[key])\n",
      "                                else:\n",
      "                                    value = obj[key]\n",
      "                                value = value.replace(\"'\",\"\")\n",
      "#                                 value = filter(lambda x: x in string.printable, value)\n",
      "#                                 value = value.encode('ascii',errors='ignore')\n",
      "                                valueStr += \",'\"+value+\"'\"\n",
      "                    query = \"INSERT INTO ipdetails(\"+fieldStr+\") VALUES(\"+valueStr+\")\"\n",
      "#                     print query\n",
      "                    cur.execute(query)\n",
      "                \n",
      "loadIpDetailsToMySql()\n",
      "\n",
      "\n",
      "\n",
      "\n",
      "    \n",
      "    \n",
      "\n",
      "            \n",
      "        "
     ],
     "language": "python",
     "metadata": {},
     "outputs": [],
     "prompt_number": 3
    },
    {
     "cell_type": "code",
     "collapsed": false,
     "input": [],
     "language": "python",
     "metadata": {},
     "outputs": []
    }
   ],
   "metadata": {}
  }
 ]
}