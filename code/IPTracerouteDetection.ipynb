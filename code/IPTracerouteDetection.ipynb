{
 "metadata": {
  "name": "",
  "signature": "sha256:a1358547ab956493558575b092bb0d7f1ebc11de190c937cf1b7944e81dc16ee"
 },
 "nbformat": 3,
 "nbformat_minor": 0,
 "worksheets": [
  {
   "cells": [
    {
     "cell_type": "code",
     "collapsed": false,
     "input": [
      "import os\n",
      "import requests\n",
      "import json\n",
      "\n",
      "dataDir = 'C:\\\\cygwin64\\\\home\\\\Ashwin\\\\fcn'\n",
      "\n",
      "srcdir = 'C:\\\\Stuffs\\\\Courses\\\\FCN\\\\Project_AS_Connectivity'"
     ],
     "language": "python",
     "metadata": {},
     "outputs": [],
     "prompt_number": 1
    },
    {
     "cell_type": "code",
     "collapsed": false,
     "input": [
      "\n",
      "\n",
      "\n",
      "def iterateRouteFilesToFindLocation(continent):\n",
      "    continentFiles = []\n",
      "    startIP = ''\n",
      "    proceed = True\n",
      "    for f in os.listdir(dataDir):\n",
      "        if f.startswith(\"out\"): \n",
      "            with open(dataDir+'\\\\'+f) as df:\n",
      "                for line in df:\n",
      "                    if line.startswith('0:') :\n",
      "                        ip = line.split(' ')[1]\n",
      "#                         if startIP == '' or startIP == ip:\n",
      "#                             proceed = True\n",
      "                        if proceed:\n",
      "                            r = requests.get(\"http://www.telize.com/geoip/\"+ip)\n",
      "                            resp = r.content\n",
      "                            obj = json.loads(resp)\n",
      "                            if 'country' in obj:\n",
      "                                if obj['continent_code'] == continent:\n",
      "                                    print(obj['ip'],obj['country'],f)\n",
      "                                    continentFiles.append(f)\n",
      "                            break\n",
      "    print(continentFiles)\n",
      "    return continentFiles\n",
      "            \n",
      "continent_files = iterateRouteFilesToFindLocation('SA')\n",
      "            "
     ],
     "language": "python",
     "metadata": {},
     "outputs": [
      {
       "output_type": "stream",
       "stream": "stdout",
       "text": [
        "(u'190.227.163.129', u'Argentina', 'out_trace.out.planet-lab1.itba.edu.ar.res')\n",
        "(u'157.92.44.97', u'Argentina', 'out_trace.out.planet-lab3.uba.ar.res')"
       ]
      },
      {
       "output_type": "stream",
       "stream": "stdout",
       "text": [
        "\n",
        "(u'200.0.206.162', u'Uruguay', 'out_trace.out.planetlab1-buenosaires.lan.redclara.net.res')"
       ]
      },
      {
       "output_type": "stream",
       "stream": "stdout",
       "text": [
        "\n",
        "(u'200.10.150.8', u'Ecuador', 'out_trace.out.planetlab1.cti.espol.edu.ec.res')"
       ]
      },
      {
       "output_type": "stream",
       "stream": "stdout",
       "text": [
        "\n",
        "(u'200.19.159.33', u'Brazil', 'out_trace.out.planetlab1.pop-mg.rnp.br.res')"
       ]
      },
      {
       "output_type": "stream",
       "stream": "stdout",
       "text": [
        "\n",
        "(u'200.0.206.130', u'Uruguay', 'out_trace.out.planetlab2-saopaulo.lan.redclara.net.res')"
       ]
      },
      {
       "output_type": "stream",
       "stream": "stdout",
       "text": [
        "\n",
        "(u'200.17.202.254', u'Brazil', 'out_trace.out.planetlab2.c3sl.ufpr.br.res')"
       ]
      },
      {
       "output_type": "stream",
       "stream": "stdout",
       "text": [
        "\n",
        "['out_trace.out.planet-lab1.itba.edu.ar.res', 'out_trace.out.planet-lab3.uba.ar.res', 'out_trace.out.planetlab1-buenosaires.lan.redclara.net.res', 'out_trace.out.planetlab1.cti.espol.edu.ec.res', 'out_trace.out.planetlab1.pop-mg.rnp.br.res', 'out_trace.out.planetlab2-saopaulo.lan.redclara.net.res', 'out_trace.out.planetlab2.c3sl.ufpr.br.res']"
       ]
      },
      {
       "output_type": "stream",
       "stream": "stdout",
       "text": [
        "\n"
       ]
      }
     ],
     "prompt_number": 6
    },
    {
     "cell_type": "code",
     "collapsed": false,
     "input": [
      "southAmericaFiles = ['out_trace.out.planet-lab1.itba.edu.ar.res', \n",
      "                     'out_trace.out.planet-lab3.uba.ar.res', \n",
      "                     'out_trace.out.planetlab1-buenosaires.lan.redclara.net.res', \n",
      "                     'out_trace.out.planetlab1.cti.espol.edu.ec.res', \n",
      "                     'out_trace.out.planetlab1.pop-mg.rnp.br.res', \n",
      "                     'out_trace.out.planetlab2-saopaulo.lan.redclara.net.res', \n",
      "                     'out_trace.out.planetlab2.c3sl.ufpr.br.res']\n",
      "\n",
      "def collectIPDetailsForIPlaneData(continent_files):\n",
      "    uniqueIPList = []\n",
      "    i=0\n",
      "    for f in continent_files:\n",
      "        with open(dataDir+'\\\\'+f) as df:\n",
      "            for line in df:\n",
      "                ip = line.split(' ')[1]\n",
      "                if ip not in uniqueIPList:\n",
      "                    i += 1\n",
      "                    if i== 100:\n",
      "                        print uniqueIPList\n",
      "                    if i%1000 == 0:\n",
      "                        print(i)\n",
      "                    uniqueIPList.append(ip)\n",
      "    print len(uniqueIPList)\n",
      "    return uniqueIPList\n",
      "                \n",
      "                \n",
      "uniqueIPList = collectIPDetailsForIPlaneData(southAmericaFiles)\n",
      "\n",
      "    \n"
     ],
     "language": "python",
     "metadata": {},
     "outputs": [
      {
       "output_type": "stream",
       "stream": "stdout",
       "text": [
        "['74.80.116.1', '190.227.163.129', '181.15.0.89', '200.117.124.17', '190.224.165.114', '195.22.220.40', '195.22.219.147', '149.3.181.65', '129.250.2.227', '129.250.4.173', '70.184.4.1', '195.22.220.109', '89.221.40.7', '68.105.30.121', '68.1.2.148', '24.120.178.1', '190.225.249.209', '190.224.165.110', '195.22.220.77', '68.1.0.85', '65.126.55.1', '89.221.40.10', '89.221.40.0', '63.146.26.213', '205.171.11.98', '185.45.8.1', '195.22.199.103', '195.22.199.139', '63.209.150.165', '4.69.153.237', '71.114.121.1', '195.22.220.104', '195.22.199.141', '195.22.199.133', '63.65.188.13', '130.81.28.253', '130.81.27.185', '209.99.227.1', '195.22.221.91', '64.208.27.197', '67.16.166.57', '67.16.147.142', '208.48.239.70', '10.2.11.226', '10.2.8.209', '200.80.245.238', '200.80.161.29', '69.59.67.1', '195.22.199.5', '89.221.41.9', '4.69.138.107', '4.68.71.98', '66.192.250.146', '66.194.86.86', '12.129.110.1', '192.205.35.237', '12.122.141.234', '12.122.117.81', '12.122.254.250', '12.130.212.10', '209.196.128.1', '200.3.81.82', '198.32.124.125', '216.187.89.31', '216.187.120.210', '193.17.196.1', '195.22.220.97', '195.22.199.145', '77.67.71.97', '89.149.186.6', '213.200.76.22', '85.14.151.85', '85.14.151.86', '142.0.180.1', '195.22.219.177', '129.250.3.73', '129.250.2.149', '129.250.6.113', '168.143.97.190', '67.59.145.33', '67.59.145.71', '208.112.127.252', '65.74.132.1', '195.22.199.101', '206.111.1.173', '207.88.13.174', '207.88.12.42', '216.156.0.158', '65.46.225.54', '173.225.175.142', '135.11.8.1', '195.22.199.67', '195.22.199.135', '4.69.136.217', '4.59.42.10', '67.208.157.193', '67.208.157.6', '67.208.157.114', '216.195.70.242']\n",
        "1000\n",
        "2000"
       ]
      },
      {
       "output_type": "stream",
       "stream": "stdout",
       "text": [
        "\n",
        "3000"
       ]
      },
      {
       "output_type": "stream",
       "stream": "stdout",
       "text": [
        "\n",
        "4000"
       ]
      },
      {
       "output_type": "stream",
       "stream": "stdout",
       "text": [
        "\n",
        "5000"
       ]
      },
      {
       "output_type": "stream",
       "stream": "stdout",
       "text": [
        "\n",
        "6000"
       ]
      },
      {
       "output_type": "stream",
       "stream": "stdout",
       "text": [
        "\n",
        "7000"
       ]
      },
      {
       "output_type": "stream",
       "stream": "stdout",
       "text": [
        "\n",
        "8000"
       ]
      },
      {
       "output_type": "stream",
       "stream": "stdout",
       "text": [
        "\n",
        "9000"
       ]
      },
      {
       "output_type": "stream",
       "stream": "stdout",
       "text": [
        "\n",
        "10000"
       ]
      },
      {
       "output_type": "stream",
       "stream": "stdout",
       "text": [
        "\n",
        "11000"
       ]
      },
      {
       "output_type": "stream",
       "stream": "stdout",
       "text": [
        "\n",
        "12000"
       ]
      },
      {
       "output_type": "stream",
       "stream": "stdout",
       "text": [
        "\n",
        "13000"
       ]
      },
      {
       "output_type": "stream",
       "stream": "stdout",
       "text": [
        "\n",
        "14000"
       ]
      },
      {
       "output_type": "stream",
       "stream": "stdout",
       "text": [
        "\n",
        "15000"
       ]
      },
      {
       "output_type": "stream",
       "stream": "stdout",
       "text": [
        "\n",
        "16000"
       ]
      },
      {
       "output_type": "stream",
       "stream": "stdout",
       "text": [
        "\n",
        "17000"
       ]
      },
      {
       "output_type": "stream",
       "stream": "stdout",
       "text": [
        "\n",
        "18000"
       ]
      },
      {
       "output_type": "stream",
       "stream": "stdout",
       "text": [
        "\n",
        "19000"
       ]
      },
      {
       "output_type": "stream",
       "stream": "stdout",
       "text": [
        "\n",
        "20000"
       ]
      },
      {
       "output_type": "stream",
       "stream": "stdout",
       "text": [
        "\n",
        "21000"
       ]
      },
      {
       "output_type": "stream",
       "stream": "stdout",
       "text": [
        "\n",
        "22000"
       ]
      },
      {
       "output_type": "stream",
       "stream": "stdout",
       "text": [
        "\n",
        "23000"
       ]
      },
      {
       "output_type": "stream",
       "stream": "stdout",
       "text": [
        "\n",
        "24000"
       ]
      },
      {
       "output_type": "stream",
       "stream": "stdout",
       "text": [
        "\n",
        "25000"
       ]
      },
      {
       "output_type": "stream",
       "stream": "stdout",
       "text": [
        "\n",
        "26000"
       ]
      },
      {
       "output_type": "stream",
       "stream": "stdout",
       "text": [
        "\n",
        "27000"
       ]
      },
      {
       "output_type": "stream",
       "stream": "stdout",
       "text": [
        "\n",
        "28000"
       ]
      },
      {
       "output_type": "stream",
       "stream": "stdout",
       "text": [
        "\n",
        "29000"
       ]
      },
      {
       "output_type": "stream",
       "stream": "stdout",
       "text": [
        "\n",
        "30000"
       ]
      },
      {
       "output_type": "stream",
       "stream": "stdout",
       "text": [
        "\n",
        "31000"
       ]
      },
      {
       "output_type": "stream",
       "stream": "stdout",
       "text": [
        "\n",
        "32000"
       ]
      },
      {
       "output_type": "stream",
       "stream": "stdout",
       "text": [
        "\n",
        "33000"
       ]
      },
      {
       "output_type": "stream",
       "stream": "stdout",
       "text": [
        "\n",
        "34000"
       ]
      },
      {
       "output_type": "stream",
       "stream": "stdout",
       "text": [
        "\n",
        "35000"
       ]
      },
      {
       "output_type": "stream",
       "stream": "stdout",
       "text": [
        "\n",
        "36000"
       ]
      },
      {
       "output_type": "stream",
       "stream": "stdout",
       "text": [
        "\n",
        "37000"
       ]
      },
      {
       "output_type": "stream",
       "stream": "stdout",
       "text": [
        "\n",
        "38000"
       ]
      },
      {
       "output_type": "stream",
       "stream": "stdout",
       "text": [
        "\n",
        "39000"
       ]
      },
      {
       "output_type": "stream",
       "stream": "stdout",
       "text": [
        "\n",
        "40000"
       ]
      },
      {
       "output_type": "stream",
       "stream": "stdout",
       "text": [
        "\n",
        "41000"
       ]
      },
      {
       "output_type": "stream",
       "stream": "stdout",
       "text": [
        "\n",
        "42000"
       ]
      },
      {
       "output_type": "stream",
       "stream": "stdout",
       "text": [
        "\n",
        "43000"
       ]
      },
      {
       "output_type": "stream",
       "stream": "stdout",
       "text": [
        "\n",
        "44000"
       ]
      },
      {
       "output_type": "stream",
       "stream": "stdout",
       "text": [
        "\n",
        "45000"
       ]
      },
      {
       "output_type": "stream",
       "stream": "stdout",
       "text": [
        "\n",
        "46000"
       ]
      },
      {
       "output_type": "stream",
       "stream": "stdout",
       "text": [
        "\n",
        "47000"
       ]
      },
      {
       "output_type": "stream",
       "stream": "stdout",
       "text": [
        "\n",
        "48000"
       ]
      },
      {
       "output_type": "stream",
       "stream": "stdout",
       "text": [
        "\n",
        "49000"
       ]
      },
      {
       "output_type": "stream",
       "stream": "stdout",
       "text": [
        "\n",
        "50000"
       ]
      },
      {
       "output_type": "stream",
       "stream": "stdout",
       "text": [
        "\n",
        "51000"
       ]
      },
      {
       "output_type": "stream",
       "stream": "stdout",
       "text": [
        "\n",
        "52000"
       ]
      },
      {
       "output_type": "stream",
       "stream": "stdout",
       "text": [
        "\n",
        "53000"
       ]
      },
      {
       "output_type": "stream",
       "stream": "stdout",
       "text": [
        "\n",
        "54000"
       ]
      },
      {
       "output_type": "stream",
       "stream": "stdout",
       "text": [
        "\n",
        "55000"
       ]
      },
      {
       "output_type": "stream",
       "stream": "stdout",
       "text": [
        "\n",
        "56000"
       ]
      },
      {
       "output_type": "stream",
       "stream": "stdout",
       "text": [
        "\n",
        "57000"
       ]
      },
      {
       "output_type": "stream",
       "stream": "stdout",
       "text": [
        "\n",
        "58000"
       ]
      },
      {
       "output_type": "stream",
       "stream": "stdout",
       "text": [
        "\n",
        "59000"
       ]
      },
      {
       "output_type": "stream",
       "stream": "stdout",
       "text": [
        "\n",
        "60000"
       ]
      },
      {
       "output_type": "stream",
       "stream": "stdout",
       "text": [
        "\n",
        "61000"
       ]
      },
      {
       "output_type": "stream",
       "stream": "stdout",
       "text": [
        "\n",
        "62000"
       ]
      },
      {
       "output_type": "stream",
       "stream": "stdout",
       "text": [
        "\n",
        "63000"
       ]
      },
      {
       "output_type": "stream",
       "stream": "stdout",
       "text": [
        "\n",
        "64000"
       ]
      },
      {
       "output_type": "stream",
       "stream": "stdout",
       "text": [
        "\n",
        "65000"
       ]
      },
      {
       "output_type": "stream",
       "stream": "stdout",
       "text": [
        "\n",
        "66000"
       ]
      },
      {
       "output_type": "stream",
       "stream": "stdout",
       "text": [
        "\n",
        "67000"
       ]
      },
      {
       "output_type": "stream",
       "stream": "stdout",
       "text": [
        "\n",
        "68000"
       ]
      },
      {
       "output_type": "stream",
       "stream": "stdout",
       "text": [
        "\n",
        "69000"
       ]
      },
      {
       "output_type": "stream",
       "stream": "stdout",
       "text": [
        "\n",
        "70000"
       ]
      },
      {
       "output_type": "stream",
       "stream": "stdout",
       "text": [
        "\n",
        "71000"
       ]
      },
      {
       "output_type": "stream",
       "stream": "stdout",
       "text": [
        "\n",
        "72000"
       ]
      },
      {
       "output_type": "stream",
       "stream": "stdout",
       "text": [
        "\n",
        "73000"
       ]
      },
      {
       "output_type": "stream",
       "stream": "stdout",
       "text": [
        "\n",
        "74000"
       ]
      },
      {
       "output_type": "stream",
       "stream": "stdout",
       "text": [
        "\n",
        "75000"
       ]
      },
      {
       "output_type": "stream",
       "stream": "stdout",
       "text": [
        "\n",
        "76000"
       ]
      },
      {
       "output_type": "stream",
       "stream": "stdout",
       "text": [
        "\n",
        "77000"
       ]
      },
      {
       "output_type": "stream",
       "stream": "stdout",
       "text": [
        "\n",
        "78000"
       ]
      },
      {
       "output_type": "stream",
       "stream": "stdout",
       "text": [
        "\n",
        "79000"
       ]
      },
      {
       "output_type": "stream",
       "stream": "stdout",
       "text": [
        "\n",
        "80000"
       ]
      },
      {
       "output_type": "stream",
       "stream": "stdout",
       "text": [
        "\n",
        "81000"
       ]
      },
      {
       "output_type": "stream",
       "stream": "stdout",
       "text": [
        "\n",
        "82000"
       ]
      },
      {
       "output_type": "stream",
       "stream": "stdout",
       "text": [
        "\n",
        "83000"
       ]
      },
      {
       "output_type": "stream",
       "stream": "stdout",
       "text": [
        "\n",
        "84000"
       ]
      },
      {
       "output_type": "stream",
       "stream": "stdout",
       "text": [
        "\n",
        "85000"
       ]
      },
      {
       "output_type": "stream",
       "stream": "stdout",
       "text": [
        "\n",
        "86000"
       ]
      },
      {
       "output_type": "stream",
       "stream": "stdout",
       "text": [
        "\n",
        "87000"
       ]
      },
      {
       "output_type": "stream",
       "stream": "stdout",
       "text": [
        "\n",
        "88000"
       ]
      },
      {
       "output_type": "stream",
       "stream": "stdout",
       "text": [
        "\n",
        "89000"
       ]
      },
      {
       "output_type": "stream",
       "stream": "stdout",
       "text": [
        "\n",
        "90000"
       ]
      },
      {
       "output_type": "stream",
       "stream": "stdout",
       "text": [
        "\n",
        "91000"
       ]
      },
      {
       "output_type": "stream",
       "stream": "stdout",
       "text": [
        "\n",
        "92000"
       ]
      },
      {
       "output_type": "stream",
       "stream": "stdout",
       "text": [
        "\n",
        "93000"
       ]
      },
      {
       "output_type": "stream",
       "stream": "stdout",
       "text": [
        "\n",
        "94000"
       ]
      },
      {
       "output_type": "stream",
       "stream": "stdout",
       "text": [
        "\n",
        "95000"
       ]
      },
      {
       "output_type": "stream",
       "stream": "stdout",
       "text": [
        "\n",
        "96000"
       ]
      },
      {
       "output_type": "stream",
       "stream": "stdout",
       "text": [
        "\n",
        "97000"
       ]
      },
      {
       "output_type": "stream",
       "stream": "stdout",
       "text": [
        "\n",
        "98000"
       ]
      },
      {
       "output_type": "stream",
       "stream": "stdout",
       "text": [
        "\n",
        "99000"
       ]
      },
      {
       "output_type": "stream",
       "stream": "stdout",
       "text": [
        "\n",
        "100000"
       ]
      },
      {
       "output_type": "stream",
       "stream": "stdout",
       "text": [
        "\n",
        "101000"
       ]
      },
      {
       "output_type": "stream",
       "stream": "stdout",
       "text": [
        "\n",
        "102000"
       ]
      },
      {
       "output_type": "stream",
       "stream": "stdout",
       "text": [
        "\n",
        "103000"
       ]
      },
      {
       "output_type": "stream",
       "stream": "stdout",
       "text": [
        "\n",
        "104000"
       ]
      },
      {
       "output_type": "stream",
       "stream": "stdout",
       "text": [
        "\n",
        "105000"
       ]
      },
      {
       "output_type": "stream",
       "stream": "stdout",
       "text": [
        "\n",
        "106000"
       ]
      },
      {
       "output_type": "stream",
       "stream": "stdout",
       "text": [
        "\n",
        "107000"
       ]
      },
      {
       "output_type": "stream",
       "stream": "stdout",
       "text": [
        "\n",
        "108000"
       ]
      },
      {
       "output_type": "stream",
       "stream": "stdout",
       "text": [
        "\n",
        "109000"
       ]
      },
      {
       "output_type": "stream",
       "stream": "stdout",
       "text": [
        "\n",
        "110000"
       ]
      },
      {
       "output_type": "stream",
       "stream": "stdout",
       "text": [
        "\n",
        "111000"
       ]
      },
      {
       "output_type": "stream",
       "stream": "stdout",
       "text": [
        "\n",
        "112000"
       ]
      },
      {
       "output_type": "stream",
       "stream": "stdout",
       "text": [
        "\n",
        "113000"
       ]
      },
      {
       "output_type": "stream",
       "stream": "stdout",
       "text": [
        "\n",
        "114000"
       ]
      },
      {
       "output_type": "stream",
       "stream": "stdout",
       "text": [
        "\n",
        "115000"
       ]
      },
      {
       "output_type": "stream",
       "stream": "stdout",
       "text": [
        "\n",
        "116000"
       ]
      },
      {
       "output_type": "stream",
       "stream": "stdout",
       "text": [
        "\n",
        "117000"
       ]
      },
      {
       "output_type": "stream",
       "stream": "stdout",
       "text": [
        "\n",
        "118000"
       ]
      },
      {
       "output_type": "stream",
       "stream": "stdout",
       "text": [
        "\n",
        "119000"
       ]
      },
      {
       "output_type": "stream",
       "stream": "stdout",
       "text": [
        "\n",
        "120000"
       ]
      },
      {
       "output_type": "stream",
       "stream": "stdout",
       "text": [
        "\n",
        "121000"
       ]
      },
      {
       "output_type": "stream",
       "stream": "stdout",
       "text": [
        "\n",
        "122000"
       ]
      },
      {
       "output_type": "stream",
       "stream": "stdout",
       "text": [
        "\n",
        "123000"
       ]
      },
      {
       "output_type": "stream",
       "stream": "stdout",
       "text": [
        "\n",
        "124000"
       ]
      },
      {
       "output_type": "stream",
       "stream": "stdout",
       "text": [
        "\n",
        "125000"
       ]
      },
      {
       "output_type": "stream",
       "stream": "stdout",
       "text": [
        "\n",
        "126000"
       ]
      },
      {
       "output_type": "stream",
       "stream": "stdout",
       "text": [
        "\n",
        "127000"
       ]
      },
      {
       "output_type": "stream",
       "stream": "stdout",
       "text": [
        "\n",
        "128000"
       ]
      },
      {
       "output_type": "stream",
       "stream": "stdout",
       "text": [
        "\n",
        "129000"
       ]
      },
      {
       "output_type": "stream",
       "stream": "stdout",
       "text": [
        "\n",
        "130000"
       ]
      },
      {
       "output_type": "stream",
       "stream": "stdout",
       "text": [
        "\n",
        "131000"
       ]
      },
      {
       "output_type": "stream",
       "stream": "stdout",
       "text": [
        "\n",
        "132000"
       ]
      },
      {
       "output_type": "stream",
       "stream": "stdout",
       "text": [
        "\n",
        "133000"
       ]
      },
      {
       "output_type": "stream",
       "stream": "stdout",
       "text": [
        "\n",
        "134000"
       ]
      },
      {
       "output_type": "stream",
       "stream": "stdout",
       "text": [
        "\n",
        "135000"
       ]
      },
      {
       "output_type": "stream",
       "stream": "stdout",
       "text": [
        "\n",
        "136000"
       ]
      },
      {
       "output_type": "stream",
       "stream": "stdout",
       "text": [
        "\n",
        "137000"
       ]
      },
      {
       "output_type": "stream",
       "stream": "stdout",
       "text": [
        "\n",
        "138000"
       ]
      },
      {
       "output_type": "stream",
       "stream": "stdout",
       "text": [
        "\n",
        "139000"
       ]
      },
      {
       "output_type": "stream",
       "stream": "stdout",
       "text": [
        "\n",
        "140000"
       ]
      },
      {
       "output_type": "stream",
       "stream": "stdout",
       "text": [
        "\n",
        "141000"
       ]
      },
      {
       "output_type": "stream",
       "stream": "stdout",
       "text": [
        "\n",
        "142000"
       ]
      },
      {
       "output_type": "stream",
       "stream": "stdout",
       "text": [
        "\n",
        "143000"
       ]
      },
      {
       "output_type": "stream",
       "stream": "stdout",
       "text": [
        "\n",
        "144000"
       ]
      },
      {
       "output_type": "stream",
       "stream": "stdout",
       "text": [
        "\n",
        "145000"
       ]
      },
      {
       "output_type": "stream",
       "stream": "stdout",
       "text": [
        "\n",
        "146000"
       ]
      },
      {
       "output_type": "stream",
       "stream": "stdout",
       "text": [
        "\n",
        "147000"
       ]
      },
      {
       "output_type": "stream",
       "stream": "stdout",
       "text": [
        "\n",
        "148000"
       ]
      },
      {
       "output_type": "stream",
       "stream": "stdout",
       "text": [
        "\n",
        "149000"
       ]
      },
      {
       "output_type": "stream",
       "stream": "stdout",
       "text": [
        "\n",
        "150000"
       ]
      },
      {
       "output_type": "stream",
       "stream": "stdout",
       "text": [
        "\n",
        "151000"
       ]
      },
      {
       "output_type": "stream",
       "stream": "stdout",
       "text": [
        "\n",
        "152000"
       ]
      },
      {
       "output_type": "stream",
       "stream": "stdout",
       "text": [
        "\n",
        "153000"
       ]
      },
      {
       "output_type": "stream",
       "stream": "stdout",
       "text": [
        "\n",
        "154000"
       ]
      },
      {
       "output_type": "stream",
       "stream": "stdout",
       "text": [
        "\n",
        "155000"
       ]
      },
      {
       "output_type": "stream",
       "stream": "stdout",
       "text": [
        "\n",
        "156000"
       ]
      },
      {
       "output_type": "stream",
       "stream": "stdout",
       "text": [
        "\n",
        "157000"
       ]
      },
      {
       "output_type": "stream",
       "stream": "stdout",
       "text": [
        "\n",
        "158000"
       ]
      },
      {
       "output_type": "stream",
       "stream": "stdout",
       "text": [
        "\n",
        "159000"
       ]
      },
      {
       "output_type": "stream",
       "stream": "stdout",
       "text": [
        "\n",
        "160000"
       ]
      },
      {
       "output_type": "stream",
       "stream": "stdout",
       "text": [
        "\n",
        "161000"
       ]
      },
      {
       "output_type": "stream",
       "stream": "stdout",
       "text": [
        "\n",
        "162000"
       ]
      },
      {
       "output_type": "stream",
       "stream": "stdout",
       "text": [
        "\n",
        "163000"
       ]
      },
      {
       "output_type": "stream",
       "stream": "stdout",
       "text": [
        "\n",
        "164000"
       ]
      },
      {
       "output_type": "stream",
       "stream": "stdout",
       "text": [
        "\n",
        "165000"
       ]
      },
      {
       "output_type": "stream",
       "stream": "stdout",
       "text": [
        "\n",
        "166000"
       ]
      },
      {
       "output_type": "stream",
       "stream": "stdout",
       "text": [
        "\n",
        "167000"
       ]
      },
      {
       "output_type": "stream",
       "stream": "stdout",
       "text": [
        "\n",
        "168000"
       ]
      },
      {
       "output_type": "stream",
       "stream": "stdout",
       "text": [
        "\n",
        "169000"
       ]
      },
      {
       "output_type": "stream",
       "stream": "stdout",
       "text": [
        "\n",
        "170000"
       ]
      },
      {
       "output_type": "stream",
       "stream": "stdout",
       "text": [
        "\n",
        "171000"
       ]
      },
      {
       "output_type": "stream",
       "stream": "stdout",
       "text": [
        "\n",
        "172000"
       ]
      },
      {
       "output_type": "stream",
       "stream": "stdout",
       "text": [
        "\n",
        "173000"
       ]
      },
      {
       "output_type": "stream",
       "stream": "stdout",
       "text": [
        "\n",
        "174000"
       ]
      },
      {
       "output_type": "stream",
       "stream": "stdout",
       "text": [
        "\n",
        "175000"
       ]
      },
      {
       "output_type": "stream",
       "stream": "stdout",
       "text": [
        "\n",
        "176000"
       ]
      },
      {
       "output_type": "stream",
       "stream": "stdout",
       "text": [
        "\n",
        "177000"
       ]
      },
      {
       "output_type": "stream",
       "stream": "stdout",
       "text": [
        "\n",
        "178000"
       ]
      },
      {
       "output_type": "stream",
       "stream": "stdout",
       "text": [
        "\n",
        "179000"
       ]
      },
      {
       "output_type": "stream",
       "stream": "stdout",
       "text": [
        "\n",
        "180000"
       ]
      },
      {
       "output_type": "stream",
       "stream": "stdout",
       "text": [
        "\n",
        "181000"
       ]
      },
      {
       "output_type": "stream",
       "stream": "stdout",
       "text": [
        "\n",
        "182000"
       ]
      },
      {
       "output_type": "stream",
       "stream": "stdout",
       "text": [
        "\n",
        "183000"
       ]
      },
      {
       "output_type": "stream",
       "stream": "stdout",
       "text": [
        "\n",
        "184000"
       ]
      },
      {
       "output_type": "stream",
       "stream": "stdout",
       "text": [
        "\n",
        "185000"
       ]
      },
      {
       "output_type": "stream",
       "stream": "stdout",
       "text": [
        "\n",
        "186000"
       ]
      },
      {
       "output_type": "stream",
       "stream": "stdout",
       "text": [
        "\n",
        "187000"
       ]
      },
      {
       "output_type": "stream",
       "stream": "stdout",
       "text": [
        "\n",
        "188000"
       ]
      },
      {
       "output_type": "stream",
       "stream": "stdout",
       "text": [
        "\n",
        "189000"
       ]
      },
      {
       "output_type": "stream",
       "stream": "stdout",
       "text": [
        "\n",
        "190000"
       ]
      },
      {
       "output_type": "stream",
       "stream": "stdout",
       "text": [
        "\n",
        "191000"
       ]
      },
      {
       "output_type": "stream",
       "stream": "stdout",
       "text": [
        "\n",
        "192000"
       ]
      },
      {
       "output_type": "stream",
       "stream": "stdout",
       "text": [
        "\n",
        "193000"
       ]
      },
      {
       "output_type": "stream",
       "stream": "stdout",
       "text": [
        "\n",
        "194000"
       ]
      },
      {
       "output_type": "stream",
       "stream": "stdout",
       "text": [
        "\n",
        "195000"
       ]
      },
      {
       "output_type": "stream",
       "stream": "stdout",
       "text": [
        "\n",
        "196000"
       ]
      },
      {
       "output_type": "stream",
       "stream": "stdout",
       "text": [
        "\n",
        "197000"
       ]
      },
      {
       "output_type": "stream",
       "stream": "stdout",
       "text": [
        "\n",
        "198000"
       ]
      },
      {
       "output_type": "stream",
       "stream": "stdout",
       "text": [
        "\n",
        "199000"
       ]
      },
      {
       "output_type": "stream",
       "stream": "stdout",
       "text": [
        "\n",
        "200000"
       ]
      },
      {
       "output_type": "stream",
       "stream": "stdout",
       "text": [
        "\n",
        "201000"
       ]
      },
      {
       "output_type": "stream",
       "stream": "stdout",
       "text": [
        "\n",
        "202000"
       ]
      },
      {
       "output_type": "stream",
       "stream": "stdout",
       "text": [
        "\n",
        "203000"
       ]
      },
      {
       "output_type": "stream",
       "stream": "stdout",
       "text": [
        "\n",
        "204000"
       ]
      },
      {
       "output_type": "stream",
       "stream": "stdout",
       "text": [
        "\n",
        "205000"
       ]
      },
      {
       "output_type": "stream",
       "stream": "stdout",
       "text": [
        "\n",
        "206000"
       ]
      },
      {
       "output_type": "stream",
       "stream": "stdout",
       "text": [
        "\n",
        "207000"
       ]
      },
      {
       "output_type": "stream",
       "stream": "stdout",
       "text": [
        "\n",
        "208000"
       ]
      },
      {
       "output_type": "stream",
       "stream": "stdout",
       "text": [
        "\n",
        "209000"
       ]
      },
      {
       "output_type": "stream",
       "stream": "stdout",
       "text": [
        "\n",
        "210000"
       ]
      },
      {
       "output_type": "stream",
       "stream": "stdout",
       "text": [
        "\n",
        "211000"
       ]
      },
      {
       "output_type": "stream",
       "stream": "stdout",
       "text": [
        "\n",
        "212000"
       ]
      },
      {
       "output_type": "stream",
       "stream": "stdout",
       "text": [
        "\n",
        "213000"
       ]
      },
      {
       "output_type": "stream",
       "stream": "stdout",
       "text": [
        "\n",
        "214000"
       ]
      },
      {
       "output_type": "stream",
       "stream": "stdout",
       "text": [
        "\n",
        "215000"
       ]
      },
      {
       "output_type": "stream",
       "stream": "stdout",
       "text": [
        "\n",
        "216000"
       ]
      },
      {
       "output_type": "stream",
       "stream": "stdout",
       "text": [
        "\n",
        "217000"
       ]
      },
      {
       "output_type": "stream",
       "stream": "stdout",
       "text": [
        "\n",
        "218000"
       ]
      },
      {
       "output_type": "stream",
       "stream": "stdout",
       "text": [
        "\n",
        "219000"
       ]
      },
      {
       "output_type": "stream",
       "stream": "stdout",
       "text": [
        "\n",
        "220000"
       ]
      },
      {
       "output_type": "stream",
       "stream": "stdout",
       "text": [
        "\n",
        "221000"
       ]
      },
      {
       "output_type": "stream",
       "stream": "stdout",
       "text": [
        "\n",
        "222000"
       ]
      },
      {
       "output_type": "stream",
       "stream": "stdout",
       "text": [
        "\n",
        "223000"
       ]
      },
      {
       "output_type": "stream",
       "stream": "stdout",
       "text": [
        "\n",
        "224000"
       ]
      },
      {
       "output_type": "stream",
       "stream": "stdout",
       "text": [
        "\n",
        "225000"
       ]
      },
      {
       "output_type": "stream",
       "stream": "stdout",
       "text": [
        "\n",
        "226000"
       ]
      },
      {
       "output_type": "stream",
       "stream": "stdout",
       "text": [
        "\n",
        "227000"
       ]
      },
      {
       "output_type": "stream",
       "stream": "stdout",
       "text": [
        "\n",
        "228000"
       ]
      },
      {
       "output_type": "stream",
       "stream": "stdout",
       "text": [
        "\n",
        "229000"
       ]
      },
      {
       "output_type": "stream",
       "stream": "stdout",
       "text": [
        "\n",
        "230000"
       ]
      },
      {
       "output_type": "stream",
       "stream": "stdout",
       "text": [
        "\n",
        "231000"
       ]
      },
      {
       "output_type": "stream",
       "stream": "stdout",
       "text": [
        "\n",
        "232000"
       ]
      },
      {
       "output_type": "stream",
       "stream": "stdout",
       "text": [
        "\n",
        "233000"
       ]
      },
      {
       "output_type": "stream",
       "stream": "stdout",
       "text": [
        "\n",
        "234000"
       ]
      },
      {
       "output_type": "stream",
       "stream": "stdout",
       "text": [
        "\n",
        "235000"
       ]
      },
      {
       "output_type": "stream",
       "stream": "stdout",
       "text": [
        "\n",
        "236000"
       ]
      },
      {
       "output_type": "stream",
       "stream": "stdout",
       "text": [
        "\n",
        "237000"
       ]
      },
      {
       "output_type": "stream",
       "stream": "stdout",
       "text": [
        "\n",
        "238000"
       ]
      },
      {
       "output_type": "stream",
       "stream": "stdout",
       "text": [
        "\n",
        "239000"
       ]
      },
      {
       "output_type": "stream",
       "stream": "stdout",
       "text": [
        "\n",
        "240000"
       ]
      },
      {
       "output_type": "stream",
       "stream": "stdout",
       "text": [
        "\n",
        "241000"
       ]
      },
      {
       "output_type": "stream",
       "stream": "stdout",
       "text": [
        "\n",
        "242000"
       ]
      },
      {
       "output_type": "stream",
       "stream": "stdout",
       "text": [
        "\n",
        "243000"
       ]
      },
      {
       "output_type": "stream",
       "stream": "stdout",
       "text": [
        "\n",
        "244000"
       ]
      },
      {
       "output_type": "stream",
       "stream": "stdout",
       "text": [
        "\n",
        "245000"
       ]
      },
      {
       "output_type": "stream",
       "stream": "stdout",
       "text": [
        "\n",
        "246000"
       ]
      },
      {
       "output_type": "stream",
       "stream": "stdout",
       "text": [
        "\n",
        "247000"
       ]
      },
      {
       "output_type": "stream",
       "stream": "stdout",
       "text": [
        "\n",
        "248000"
       ]
      },
      {
       "output_type": "stream",
       "stream": "stdout",
       "text": [
        "\n",
        "249000"
       ]
      },
      {
       "output_type": "stream",
       "stream": "stdout",
       "text": [
        "\n",
        "250000"
       ]
      },
      {
       "output_type": "stream",
       "stream": "stdout",
       "text": [
        "\n",
        "251000"
       ]
      },
      {
       "output_type": "stream",
       "stream": "stdout",
       "text": [
        "\n",
        "252000"
       ]
      },
      {
       "output_type": "stream",
       "stream": "stdout",
       "text": [
        "\n",
        "253000"
       ]
      },
      {
       "output_type": "stream",
       "stream": "stdout",
       "text": [
        "\n",
        "254000"
       ]
      },
      {
       "output_type": "stream",
       "stream": "stdout",
       "text": [
        "\n",
        "255000"
       ]
      },
      {
       "output_type": "stream",
       "stream": "stdout",
       "text": [
        "\n",
        "256000"
       ]
      },
      {
       "output_type": "stream",
       "stream": "stdout",
       "text": [
        "\n",
        "257000"
       ]
      },
      {
       "output_type": "stream",
       "stream": "stdout",
       "text": [
        "\n",
        "258000"
       ]
      },
      {
       "output_type": "stream",
       "stream": "stdout",
       "text": [
        "\n",
        "259000"
       ]
      },
      {
       "output_type": "stream",
       "stream": "stdout",
       "text": [
        "\n",
        "260000"
       ]
      },
      {
       "output_type": "stream",
       "stream": "stdout",
       "text": [
        "\n",
        "261000"
       ]
      },
      {
       "output_type": "stream",
       "stream": "stdout",
       "text": [
        "\n",
        "262000"
       ]
      },
      {
       "output_type": "stream",
       "stream": "stdout",
       "text": [
        "\n",
        "263000"
       ]
      },
      {
       "output_type": "stream",
       "stream": "stdout",
       "text": [
        "\n",
        "264000"
       ]
      },
      {
       "output_type": "stream",
       "stream": "stdout",
       "text": [
        "\n",
        "265000"
       ]
      },
      {
       "output_type": "stream",
       "stream": "stdout",
       "text": [
        "\n",
        "266000"
       ]
      },
      {
       "output_type": "stream",
       "stream": "stdout",
       "text": [
        "\n",
        "267000"
       ]
      },
      {
       "output_type": "stream",
       "stream": "stdout",
       "text": [
        "\n",
        "268000"
       ]
      },
      {
       "output_type": "stream",
       "stream": "stdout",
       "text": [
        "\n",
        "269000"
       ]
      },
      {
       "output_type": "stream",
       "stream": "stdout",
       "text": [
        "\n",
        "270000"
       ]
      },
      {
       "output_type": "stream",
       "stream": "stdout",
       "text": [
        "\n",
        "271000"
       ]
      },
      {
       "output_type": "stream",
       "stream": "stdout",
       "text": [
        "\n",
        "272000"
       ]
      },
      {
       "output_type": "stream",
       "stream": "stdout",
       "text": [
        "\n",
        "273000"
       ]
      },
      {
       "output_type": "stream",
       "stream": "stdout",
       "text": [
        "\n",
        "274000"
       ]
      },
      {
       "output_type": "stream",
       "stream": "stdout",
       "text": [
        "\n",
        "275000"
       ]
      },
      {
       "output_type": "stream",
       "stream": "stdout",
       "text": [
        "\n",
        "276000"
       ]
      },
      {
       "output_type": "stream",
       "stream": "stdout",
       "text": [
        "\n",
        "277000"
       ]
      },
      {
       "output_type": "stream",
       "stream": "stdout",
       "text": [
        "\n",
        "278000"
       ]
      },
      {
       "output_type": "stream",
       "stream": "stdout",
       "text": [
        "\n",
        "279000"
       ]
      },
      {
       "output_type": "stream",
       "stream": "stdout",
       "text": [
        "\n",
        "280000"
       ]
      },
      {
       "output_type": "stream",
       "stream": "stdout",
       "text": [
        "\n",
        "281000"
       ]
      },
      {
       "output_type": "stream",
       "stream": "stdout",
       "text": [
        "\n",
        "282000"
       ]
      },
      {
       "output_type": "stream",
       "stream": "stdout",
       "text": [
        "\n",
        "283000"
       ]
      },
      {
       "output_type": "stream",
       "stream": "stdout",
       "text": [
        "\n",
        "284000"
       ]
      },
      {
       "output_type": "stream",
       "stream": "stdout",
       "text": [
        "\n",
        "285000"
       ]
      },
      {
       "output_type": "stream",
       "stream": "stdout",
       "text": [
        "\n",
        "286000"
       ]
      },
      {
       "output_type": "stream",
       "stream": "stdout",
       "text": [
        "\n",
        "287000"
       ]
      },
      {
       "output_type": "stream",
       "stream": "stdout",
       "text": [
        "\n",
        "288000"
       ]
      },
      {
       "output_type": "stream",
       "stream": "stdout",
       "text": [
        "\n",
        "289000"
       ]
      },
      {
       "output_type": "stream",
       "stream": "stdout",
       "text": [
        "\n",
        "290000"
       ]
      },
      {
       "output_type": "stream",
       "stream": "stdout",
       "text": [
        "\n",
        "291000"
       ]
      },
      {
       "output_type": "stream",
       "stream": "stdout",
       "text": [
        "\n",
        "292000"
       ]
      },
      {
       "output_type": "stream",
       "stream": "stdout",
       "text": [
        "\n",
        "293000"
       ]
      },
      {
       "output_type": "stream",
       "stream": "stdout",
       "text": [
        "\n",
        "294000"
       ]
      },
      {
       "output_type": "stream",
       "stream": "stdout",
       "text": [
        "\n",
        "295000"
       ]
      },
      {
       "output_type": "stream",
       "stream": "stdout",
       "text": [
        "\n",
        "296000"
       ]
      },
      {
       "output_type": "stream",
       "stream": "stdout",
       "text": [
        "\n",
        "297000"
       ]
      },
      {
       "output_type": "stream",
       "stream": "stdout",
       "text": [
        "\n",
        "298000"
       ]
      },
      {
       "output_type": "stream",
       "stream": "stdout",
       "text": [
        "\n",
        "299000"
       ]
      },
      {
       "output_type": "stream",
       "stream": "stdout",
       "text": [
        "\n",
        "300000"
       ]
      },
      {
       "output_type": "stream",
       "stream": "stdout",
       "text": [
        "\n",
        "301000"
       ]
      },
      {
       "output_type": "stream",
       "stream": "stdout",
       "text": [
        "\n",
        "302000"
       ]
      },
      {
       "output_type": "stream",
       "stream": "stdout",
       "text": [
        "\n",
        "303000"
       ]
      },
      {
       "output_type": "stream",
       "stream": "stdout",
       "text": [
        "\n",
        "304000"
       ]
      },
      {
       "output_type": "stream",
       "stream": "stdout",
       "text": [
        "\n",
        "305000"
       ]
      },
      {
       "output_type": "stream",
       "stream": "stdout",
       "text": [
        "\n",
        "306000"
       ]
      },
      {
       "output_type": "stream",
       "stream": "stdout",
       "text": [
        "\n",
        "307000"
       ]
      },
      {
       "output_type": "stream",
       "stream": "stdout",
       "text": [
        "\n",
        "308000"
       ]
      },
      {
       "output_type": "stream",
       "stream": "stdout",
       "text": [
        "\n",
        "309000"
       ]
      },
      {
       "output_type": "stream",
       "stream": "stdout",
       "text": [
        "\n",
        "310000"
       ]
      },
      {
       "output_type": "stream",
       "stream": "stdout",
       "text": [
        "\n",
        "311000"
       ]
      },
      {
       "output_type": "stream",
       "stream": "stdout",
       "text": [
        "\n",
        "312000"
       ]
      },
      {
       "output_type": "stream",
       "stream": "stdout",
       "text": [
        "\n",
        "313000"
       ]
      },
      {
       "output_type": "stream",
       "stream": "stdout",
       "text": [
        "\n",
        "314000"
       ]
      },
      {
       "output_type": "stream",
       "stream": "stdout",
       "text": [
        "\n",
        "315000"
       ]
      },
      {
       "output_type": "stream",
       "stream": "stdout",
       "text": [
        "\n",
        "316000"
       ]
      },
      {
       "output_type": "stream",
       "stream": "stdout",
       "text": [
        "\n",
        "317000"
       ]
      },
      {
       "output_type": "stream",
       "stream": "stdout",
       "text": [
        "\n",
        "318000"
       ]
      },
      {
       "output_type": "stream",
       "stream": "stdout",
       "text": [
        "\n",
        "319000"
       ]
      },
      {
       "output_type": "stream",
       "stream": "stdout",
       "text": [
        "\n",
        "320000"
       ]
      },
      {
       "output_type": "stream",
       "stream": "stdout",
       "text": [
        "\n",
        "321000"
       ]
      },
      {
       "output_type": "stream",
       "stream": "stdout",
       "text": [
        "\n",
        "322000"
       ]
      },
      {
       "output_type": "stream",
       "stream": "stdout",
       "text": [
        "\n",
        "323000"
       ]
      },
      {
       "output_type": "stream",
       "stream": "stdout",
       "text": [
        "\n",
        "324000"
       ]
      },
      {
       "output_type": "stream",
       "stream": "stdout",
       "text": [
        "\n",
        "325000"
       ]
      },
      {
       "output_type": "stream",
       "stream": "stdout",
       "text": [
        "\n",
        "326000"
       ]
      },
      {
       "output_type": "stream",
       "stream": "stdout",
       "text": [
        "\n",
        "327000"
       ]
      },
      {
       "output_type": "stream",
       "stream": "stdout",
       "text": [
        "\n",
        "328000"
       ]
      },
      {
       "output_type": "stream",
       "stream": "stdout",
       "text": [
        "\n",
        "329000"
       ]
      },
      {
       "output_type": "stream",
       "stream": "stdout",
       "text": [
        "\n",
        "330000"
       ]
      },
      {
       "output_type": "stream",
       "stream": "stdout",
       "text": [
        "\n",
        "331000"
       ]
      },
      {
       "output_type": "stream",
       "stream": "stdout",
       "text": [
        "\n",
        "332000"
       ]
      },
      {
       "output_type": "stream",
       "stream": "stdout",
       "text": [
        "\n",
        "332731"
       ]
      },
      {
       "output_type": "stream",
       "stream": "stdout",
       "text": [
        "\n"
       ]
      }
     ],
     "prompt_number": 3
    },
    {
     "cell_type": "code",
     "collapsed": false,
     "input": [
      "with open(srcdir+'\\\\iplane_unique_ips_SA', 'a') as f:\n",
      "    for item in uniqueIPList:\n",
      "        f.write(\"%s\\n\" % item)"
     ],
     "language": "python",
     "metadata": {},
     "outputs": [],
     "prompt_number": 4
    },
    {
     "cell_type": "code",
     "collapsed": false,
     "input": [
      "import time\n",
      "\n",
      "failedIPList = []\n",
      "startIndex = 7642\n",
      "\n",
      "def writeIPDetails():\n",
      "    i=startIndex\n",
      "    with open(srcdir+'\\\\iplane_unique_ips_SA.txt') as irf:\n",
      "        with open(srcdir+'\\\\ip_details_telize_iplane.txt', 'a') as f:\n",
      "            for _ in xrange(startIndex):\n",
      "                next(irf)\n",
      "            for line in irf:\n",
      "                ip = line.strip()\n",
      "                i += 1\n",
      "                if i%1000 == 0:\n",
      "                    print('Processing ',i,'th ip')\n",
      "                resp = getDetails(ip,0)\n",
      "                if resp is not None:\n",
      "                    f.write(resp)\n",
      "\n",
      "def getDetails(ip, count):\n",
      "    try :\n",
      "        if count < 3:\n",
      "            r = requests.get(\"http://www.telize.com/geoip/\"+ip)\n",
      "            return r.content\n",
      "        else:\n",
      "            time.sleep(0.1)\n",
      "            print(\"Failed for \",ip)\n",
      "            failedIPList.append(ip)\n",
      "            return None\n",
      "    except:\n",
      "        getDetails(ip, count+1)\n",
      "                \n",
      "def getIpsinFile():\n",
      "    ipsInFile = []\n",
      "    with open(srcdir + '\\\\ip_details_telize_iplane.txt', 'r') as f:\n",
      "        for line in f:\n",
      "            if line != '\\n':\n",
      "                obj = json.loads(line)\n",
      "                if obj[\"ip\"] not in ipsInFile:\n",
      "                    ipsInFile.append(obj[\"ip\"])\n",
      "    return ipsInFile\n",
      "                \n",
      "writeIPDetails()"
     ],
     "language": "python",
     "metadata": {},
     "outputs": []
    },
    {
     "cell_type": "code",
     "collapsed": true,
     "input": [
      "ipToLocDNSMap = {}\n",
      "\n",
      "cached = True\n",
      "\n",
      "def getAndStoreLocationForUniqueIpsSA():\n",
      "    if not cached:\n",
      "        with open(srcDir+'\\\\iplane_unique_ips_SA.txt') as irf:\n",
      "            for line in irf:\n",
      "                ip = line.strip()\n",
      "                if ip not in uniqueIPList:\n",
      "                    uniqueIPList.append(ip)\n",
      "\n",
      "    print('total ips', len(uniqueIPList))\n",
      "    with open(srcdir+'\\\\dns_based_loc_mapping.txt') as drf:\n",
      "        for line in drf:\n",
      "            line = line.strip()\n",
      "            ip, loc = line.split(' ')\n",
      "            if ip in uniqueIPList:\n",
      "                ipToLocDNSMap[ip] = loc\n",
      "    print('total ip details', len(ipToLocDNSMap))\n",
      "\n",
      "   \n",
      " \n",
      "if not cached:\n",
      "    uniqueIPList = []\n",
      "    \n",
      "getAndStoreLocationForUniqueIpsSA()        \n",
      "\n",
      "            \n",
      "        \n",
      "        "
     ],
     "language": "python",
     "metadata": {},
     "outputs": [
      {
       "output_type": "stream",
       "stream": "stdout",
       "text": [
        "('total ips', 332731)\n"
       ]
      },
      {
       "ename": "NameError",
       "evalue": "global name 'ipToLocDNSMaps' is not defined",
       "output_type": "pyerr",
       "traceback": [
        "\u001b[1;31m---------------------------------------------------------------------------\u001b[0m\n\u001b[1;31mNameError\u001b[0m                                 Traceback (most recent call last)",
        "\u001b[1;32m<ipython-input-10-4d781fedbe38>\u001b[0m in \u001b[0;36m<module>\u001b[1;34m()\u001b[0m\n\u001b[0;32m     23\u001b[0m     \u001b[0muniqueIPList\u001b[0m \u001b[1;33m=\u001b[0m \u001b[1;33m[\u001b[0m\u001b[1;33m]\u001b[0m\u001b[1;33m\u001b[0m\u001b[0m\n\u001b[0;32m     24\u001b[0m \u001b[1;33m\u001b[0m\u001b[0m\n\u001b[1;32m---> 25\u001b[1;33m \u001b[0mgetAndStoreLocationForUniqueIpsSA\u001b[0m\u001b[1;33m(\u001b[0m\u001b[1;33m)\u001b[0m\u001b[1;33m\u001b[0m\u001b[0m\n\u001b[0m\u001b[0;32m     26\u001b[0m \u001b[1;33m\u001b[0m\u001b[0m\n\u001b[0;32m     27\u001b[0m \u001b[1;33m\u001b[0m\u001b[0m\n",
        "\u001b[1;32m<ipython-input-10-4d781fedbe38>\u001b[0m in \u001b[0;36mgetAndStoreLocationForUniqueIpsSA\u001b[1;34m()\u001b[0m\n\u001b[0;32m     18\u001b[0m             \u001b[1;32mif\u001b[0m \u001b[0mip\u001b[0m \u001b[1;32min\u001b[0m \u001b[0muniqueIPList\u001b[0m\u001b[1;33m:\u001b[0m\u001b[1;33m\u001b[0m\u001b[0m\n\u001b[0;32m     19\u001b[0m                 \u001b[0mipToLocDNSMap\u001b[0m\u001b[1;33m[\u001b[0m\u001b[0mip\u001b[0m\u001b[1;33m]\u001b[0m \u001b[1;33m=\u001b[0m \u001b[0mloc\u001b[0m\u001b[1;33m\u001b[0m\u001b[0m\n\u001b[1;32m---> 20\u001b[1;33m     \u001b[1;32mprint\u001b[0m\u001b[1;33m(\u001b[0m\u001b[1;34m'total ip details'\u001b[0m\u001b[1;33m,\u001b[0m \u001b[0mlen\u001b[0m\u001b[1;33m(\u001b[0m\u001b[0mipToLocDNSMaps\u001b[0m\u001b[1;33m)\u001b[0m\u001b[1;33m)\u001b[0m\u001b[1;33m\u001b[0m\u001b[0m\n\u001b[0m\u001b[0;32m     21\u001b[0m \u001b[1;33m\u001b[0m\u001b[0m\n\u001b[0;32m     22\u001b[0m \u001b[1;32mif\u001b[0m \u001b[1;32mnot\u001b[0m \u001b[0mcached\u001b[0m\u001b[1;33m:\u001b[0m\u001b[1;33m\u001b[0m\u001b[0m\n",
        "\u001b[1;31mNameError\u001b[0m: global name 'ipToLocDNSMaps' is not defined"
       ]
      }
     ],
     "prompt_number": 10
    },
    {
     "cell_type": "code",
     "collapsed": false,
     "input": [
      "print('total ip details', len(ipToLocDNSMap))\n",
      "with open(srcdir+'\\\\iplane_unique_ips_SA_loc', 'a') as f:\n",
      "    for key in ipToLocDNSMap:\n",
      "        f.write(key+' '+ipToLocDNSMap[key]+'\\n')"
     ],
     "language": "python",
     "metadata": {},
     "outputs": [
      {
       "output_type": "stream",
       "stream": "stdout",
       "text": [
        "('total ip details', 25488)\n"
       ]
      }
     ],
     "prompt_number": 17
    },
    {
     "cell_type": "code",
     "collapsed": false,
     "input": [
      "import re\n",
      "\n",
      "ipSAMap = {}\n",
      "\n",
      "def getISPLocDetails(obj):\n",
      "    details = ['None','None','None','None','None']\n",
      "    if 'isp' in obj:\n",
      "        details[0] = obj['isp']\n",
      "        details[0] = details[0].encode('utf-8')\n",
      "    if 'country_code' in obj:\n",
      "        details[1] = obj['country_code']\n",
      "    if 'continent_code' in obj:\n",
      "        details[2] = obj['continent_code']\n",
      "    if 'latitude' in obj:\n",
      "        details[3] = obj['latitude']\n",
      "    if 'longitude' in obj:\n",
      "        details[4] = obj['longitude']\n",
      "    return obj['ip'],details\n",
      "\n",
      "def loadIPDetailsForSA():\n",
      "    print(\"Loading IP Details for SA\")\n",
      "    with open(srcdir + '\\\\ip_details_telize_iplane_merged.txt', 'r') as f:\n",
      "        for line in f:\n",
      "            if line != '\\n':\n",
      "                line = line.strip()\n",
      "#                 line = unicode(line, \"utf-8\")\n",
      "                try:\n",
      "                    obj = json.loads(line)\n",
      "                except:\n",
      "                    try:\n",
      "                        line = re.sub(r'[^\\x00-\\x7F]+','', line)\n",
      "                        obj = json.loads(line)\n",
      "                    except:\n",
      "                        print line\n",
      "                        obj= {'ip':None}\n",
      "                        \n",
      "                ip, details = getISPLocDetails(obj)\n",
      "                if len(ipSAMap) % 10000 == 0:\n",
      "                    print(\"Loaded\",len(ipSAMap))\n",
      "                if details != ['None','None','None','None','None']:\n",
      "                    ipSAMap[ip] = details\n",
      "    print(\"Loading done.. for IP Details SA to SA\",len(ipSAMap))\n",
      "                \n",
      "\n",
      "def collectIPDetailsForIPlaneSAtoSAData(continent_files):\n",
      "    shallCollectDetails = False\n",
      "    i=0\n",
      "    dest = '1.1.1.1'\n",
      "    try:\n",
      "        os.remove(srcdir + '\\\\iplaneSAtoSANormalized_merged.txt')\n",
      "    except OSError:\n",
      "        pass\n",
      "    with open(srcdir + '\\\\iplaneSAtoSANormalized_merged.txt','a') as of:\n",
      "        for f in continent_files:\n",
      "            print('Processing the file',f)\n",
      "            with open(dataDir+'\\\\'+f) as df:\n",
      "                lineNum = 0\n",
      "                outStr = ''\n",
      "                for line in df:\n",
      "                    tokens = line.split(' ')\n",
      "                    ip = tokens[1]\n",
      "                    header = tokens[0]\n",
      "                    if header == 'destination:':\n",
      "                        shallCollectDetails = False\n",
      "                        details = []\n",
      "                        if ip in ipSAMap:\n",
      "                            details = ipSAMap[ip]\n",
      "                        if details != []:\n",
      "                            if details[2] == 'SA':\n",
      "                                if outStr != '':\n",
      "                                    i += 1\n",
      "                                    outStr = outStr.rstrip(',')\n",
      "                                    hops = outStr.split(',')\n",
      "                                    if hops[len(hops)-1] == '0.0.0.0':\n",
      "                                        of.write(outStr+','+dest+'\\n')\n",
      "                                    else:\n",
      "                                        of.write(outStr+'\\n')\n",
      "                                    outStr = ''\n",
      "                                dest = ip\n",
      "                                shallCollectDetails = True\n",
      "                    else:\n",
      "                        if shallCollectDetails:\n",
      "                            outStr += ip+','\n",
      "            \n",
      "    print('Total SA to SA paths found',i)\n",
      "\n",
      "                    \n",
      "\n",
      "#southAmericaFiles1 = ['out_trace.out.planet-lab1.itba.edu.ar.res']\n",
      "southAmericaFiles = ['out_trace.out.planet-lab1.itba.edu.ar.res', \n",
      "                     'out_trace.out.planet-lab3.uba.ar.res', \n",
      "                     'out_trace.out.planetlab1-buenosaires.lan.redclara.net.res', \n",
      "                     'out_trace.out.planetlab1.cti.espol.edu.ec.res', \n",
      "                     'out_trace.out.planetlab1.pop-mg.rnp.br.res', \n",
      "                     'out_trace.out.planetlab2-saopaulo.lan.redclara.net.res', \n",
      "                     'out_trace.out.planetlab2.c3sl.ufpr.br.res']\n",
      "loadIPDetailsForSA()\n",
      "collectIPDetailsForIPlaneSAtoSAData(southAmericaFiles)"
     ],
     "language": "python",
     "metadata": {},
     "outputs": [
      {
       "output_type": "stream",
       "stream": "stdout",
       "text": [
        "Loading IP Details for SA\n",
        "('Loaded', 0)\n",
        "('Loaded', 10000)"
       ]
      },
      {
       "output_type": "stream",
       "stream": "stdout",
       "text": [
        "\n",
        "('Loaded', 20000)"
       ]
      },
      {
       "output_type": "stream",
       "stream": "stdout",
       "text": [
        "\n",
        "('Loaded', 30000)"
       ]
      },
      {
       "output_type": "stream",
       "stream": "stdout",
       "text": [
        "\n",
        "('Loaded', 40000)"
       ]
      },
      {
       "output_type": "stream",
       "stream": "stdout",
       "text": [
        "\n",
        "('Loaded', 50000)"
       ]
      },
      {
       "output_type": "stream",
       "stream": "stdout",
       "text": [
        "\n",
        "('Loaded', 60000)"
       ]
      },
      {
       "output_type": "stream",
       "stream": "stdout",
       "text": [
        "\n",
        "('Loaded', 70000)"
       ]
      },
      {
       "output_type": "stream",
       "stream": "stdout",
       "text": [
        "\n",
        "('Loaded', 80000)"
       ]
      },
      {
       "output_type": "stream",
       "stream": "stdout",
       "text": [
        "\n",
        "('Loaded', 90000)"
       ]
      },
      {
       "output_type": "stream",
       "stream": "stdout",
       "text": [
        "\n",
        "('Loaded', 100000)"
       ]
      },
      {
       "output_type": "stream",
       "stream": "stdout",
       "text": [
        "\n",
        "('Loaded', 110000)"
       ]
      },
      {
       "output_type": "stream",
       "stream": "stdout",
       "text": [
        "\n",
        "('Loaded', 120000)"
       ]
      },
      {
       "output_type": "stream",
       "stream": "stdout",
       "text": [
        "\n",
        "('Loaded', 130000)"
       ]
      },
      {
       "output_type": "stream",
       "stream": "stdout",
       "text": [
        "\n",
        "('Loaded', 140000)"
       ]
      },
      {
       "output_type": "stream",
       "stream": "stdout",
       "text": [
        "\n",
        "('Loaded', 150000)"
       ]
      },
      {
       "output_type": "stream",
       "stream": "stdout",
       "text": [
        "\n",
        "('Loaded', 160000)"
       ]
      },
      {
       "output_type": "stream",
       "stream": "stdout",
       "text": [
        "\n",
        "('Loaded', 170000)"
       ]
      },
      {
       "output_type": "stream",
       "stream": "stdout",
       "text": [
        "\n",
        "('Loaded', 180000)"
       ]
      },
      {
       "output_type": "stream",
       "stream": "stdout",
       "text": [
        "\n",
        "('Loaded', 190000)"
       ]
      },
      {
       "output_type": "stream",
       "stream": "stdout",
       "text": [
        "\n",
        "('Loaded', 200000)"
       ]
      },
      {
       "output_type": "stream",
       "stream": "stdout",
       "text": [
        "\n",
        "('Loaded', 210000)"
       ]
      },
      {
       "output_type": "stream",
       "stream": "stdout",
       "text": [
        "\n",
        "('Loaded', 220000)"
       ]
      },
      {
       "output_type": "stream",
       "stream": "stdout",
       "text": [
        "\n",
        "('Loaded', 230000)"
       ]
      },
      {
       "output_type": "stream",
       "stream": "stdout",
       "text": [
        "\n",
        "('Loaded', 240000)"
       ]
      },
      {
       "output_type": "stream",
       "stream": "stdout",
       "text": [
        "\n",
        "('Loaded', 250000)"
       ]
      },
      {
       "output_type": "stream",
       "stream": "stdout",
       "text": [
        "\n",
        "('Loaded', 260000)"
       ]
      },
      {
       "output_type": "stream",
       "stream": "stdout",
       "text": [
        "\n",
        "('Loaded', 270000)"
       ]
      },
      {
       "output_type": "stream",
       "stream": "stdout",
       "text": [
        "\n",
        "('Loaded', 280000)"
       ]
      },
      {
       "output_type": "stream",
       "stream": "stdout",
       "text": [
        "\n",
        "('Loaded', 290000)"
       ]
      },
      {
       "output_type": "stream",
       "stream": "stdout",
       "text": [
        "\n",
        "('Loaded', 300000)"
       ]
      },
      {
       "output_type": "stream",
       "stream": "stdout",
       "text": [
        "\n",
        "('Loaded', 310000)"
       ]
      },
      {
       "output_type": "stream",
       "stream": "stdout",
       "text": [
        "\n",
        "('Loaded', 320000)"
       ]
      },
      {
       "output_type": "stream",
       "stream": "stdout",
       "text": [
        "\n",
        "('Loaded', 320000)\n",
        "('Loading done.. for IP Details SA to SA', 327497)"
       ]
      },
      {
       "output_type": "stream",
       "stream": "stdout",
       "text": [
        "\n",
        "('Processing the file', 'out_trace.out.planet-lab1.itba.edu.ar.res')\n",
        "('Processing the file', 'out_trace.out.planet-lab3.uba.ar.res')"
       ]
      },
      {
       "output_type": "stream",
       "stream": "stdout",
       "text": [
        "\n",
        "('Processing the file', 'out_trace.out.planetlab1-buenosaires.lan.redclara.net.res')"
       ]
      },
      {
       "output_type": "stream",
       "stream": "stdout",
       "text": [
        "\n",
        "('Processing the file', 'out_trace.out.planetlab1.cti.espol.edu.ec.res')"
       ]
      },
      {
       "output_type": "stream",
       "stream": "stdout",
       "text": [
        "\n",
        "('Processing the file', 'out_trace.out.planetlab1.pop-mg.rnp.br.res')"
       ]
      },
      {
       "output_type": "stream",
       "stream": "stdout",
       "text": [
        "\n",
        "('Processing the file', 'out_trace.out.planetlab2-saopaulo.lan.redclara.net.res')"
       ]
      },
      {
       "output_type": "stream",
       "stream": "stdout",
       "text": [
        "\n",
        "('Processing the file', 'out_trace.out.planetlab2.c3sl.ufpr.br.res')"
       ]
      },
      {
       "output_type": "stream",
       "stream": "stdout",
       "text": [
        "\n",
        "('Total SA to SA paths found', 95392)"
       ]
      },
      {
       "output_type": "stream",
       "stream": "stdout",
       "text": [
        "\n"
       ]
      }
     ],
     "prompt_number": 2
    },
    {
     "cell_type": "code",
     "collapsed": false,
     "input": [
      "import ast\n",
      "import csv\n",
      "import itertools\n",
      "\n",
      "circuitMap = {}\n",
      "circuitousISP = []\n",
      "\n",
      "\n",
      "routeCountMap = {}\n",
      "\n",
      "# src,dest = circ,noncirc\n",
      "routeCountCountryMap = {}\n",
      "\n",
      "# src = {ext,circ}\n",
      "majorCircuitLocMap = {}\n",
      "\n",
      "# src = circ\n",
      "majorCircuitMap = {}\n",
      "\n",
      "# extisp,ext = {src:dest, circ}\n",
      "majorCircuitISPMap = {}\n",
      "\n",
      "# extisp, ext = circ\n",
      "majorCircuitISPFreqMap = {}\n",
      "\n",
      "\n",
      "def updateRouteCountMap(inkey, circC, noncircC):\n",
      "    srcDestDetails = ast.literal_eval(inkey)\n",
      "    srcDet = srcDestDetails[0]\n",
      "    destDet = srcDestDetails[1]\n",
      "    key = srcDet[1]+','+srcDet[2]+':'+destDet[1]+','+destDet[2]\n",
      "    \n",
      "    if inkey in routeCountMap:\n",
      "        circ, noncirc = routeCountMap[inkey]\n",
      "        routeCountMap[inkey] = [circ+circC, noncirc+noncircC]\n",
      "    else:\n",
      "        routeCountMap[inkey] = [circC, noncircC]\n",
      "        \n",
      "    if key in routeCountCountryMap:\n",
      "        circ, noncirc = routeCountCountryMap[key]\n",
      "        routeCountCountryMap[key] = [circ+circC, noncirc+noncircC]\n",
      "    else:\n",
      "        routeCountCountryMap[key] = [circC, noncircC]\n",
      "        \n",
      "    key = srcDet[1]+','+srcDet[2]\n",
      "    if key in majorCircuitMap:\n",
      "        circ, noncirc = majorCircuitMap[key]\n",
      "        majorCircuitMap[key] = [circ+circC, noncirc+noncircC]\n",
      "    else:\n",
      "        majorCircuitMap[key] = [circC, noncircC]\n",
      "        \n",
      "def updateMajorCircuitLocMap(inkey, circuitHops):\n",
      "    srcDestDetails = ast.literal_eval(inkey)\n",
      "    srcDet = srcDestDetails[0]\n",
      "    key = srcDet[1]+','+srcDet[2]\n",
      "    freqMap = {}\n",
      "    if key in majorCircuitLocMap:\n",
      "        freqMap = majorCircuitLocMap[key]\n",
      "    \n",
      "    \n",
      "    for hop in circuitHops:\n",
      "        if hop[1]+','+hop[2] in freqMap:\n",
      "            freqMap[hop[1]+','+hop[2]] += 1\n",
      "        else:\n",
      "            freqMap[hop[1]+','+hop[2]] = 1\n",
      "            \n",
      "    majorCircuitLocMap[key] = freqMap\n",
      "    \n",
      "    \n",
      "    \n",
      "def updateMajorCircuitISPMap(inkey, circuitHops):\n",
      "    srcDestDetails = ast.literal_eval(inkey)\n",
      "    srcDet = srcDestDetails[0]\n",
      "    destDet = srcDestDetails[1]\n",
      "    value = srcDet[1]+','+srcDet[2]+':'+destDet[1]+','+destDet[2]\n",
      "    \n",
      "    for hops in circuitHops:\n",
      "        key = hops[0].decode('utf-8').strip() + '::' + hops[1] + '::' + hops[2]\n",
      "        freqMap = {}\n",
      "        if key in majorCircuitISPMap:\n",
      "            freqMap = majorCircuitISPMap[key]\n",
      "            \n",
      "        if value in freqMap:\n",
      "            freqMap[value] += 1\n",
      "        else:\n",
      "            freqMap[value] = 1\n",
      "        majorCircuitISPMap[key] = freqMap\n",
      "        \n",
      "        if key in majorCircuitISPFreqMap:\n",
      "            majorCircuitISPFreqMap[key] += 1\n",
      "        else:\n",
      "            majorCircuitISPFreqMap[key] = 1\n",
      "        \n",
      "def detectCircuitousPath():\n",
      "    currSource = ''\n",
      "    with open(srcdir + '\\\\iplaneSAtoSANormalized_merged.txt','r') as inf:\n",
      "        for line in inf:\n",
      "            line = line.strip()\n",
      "            hops = line.split(',')\n",
      "            # This is to handle the hops starting with IP 0.0.0.0. But the source is known to be same as previous\n",
      "            if hops[0] != '0.0.0.0':\n",
      "                source = hops[0]\n",
      "            else:\n",
      "                # Its ok to use the previous source, as each file has a common source\n",
      "                hops[0] = source\n",
      "                \n",
      "            # Destination must be a valid SA destination\n",
      "            destination = hops[len(hops)-1]\n",
      "            if source in ipSAMap and destination in ipSAMap:\n",
      "                # Atleast 4 hops muct be present\n",
      "                if len(hops) > 2:\n",
      "                    # Iterating leaving apart source and destination, as both belongs to SA\n",
      "                    circuitHops = []\n",
      "                    for hopIp in hops[1:len(hops)-1]:\n",
      "                        if hopIp in ipSAMap:\n",
      "                            details = ipSAMap[hopIp]\n",
      "                            if details[2] != 'SA':\n",
      "                                if details not in circuitousISP:\n",
      "                                    circuitousISP.append(details)\n",
      "                                if len(circuitHops) > 0:\n",
      "                                    \n",
      "                                    if details != circuitHops[len(circuitHops)-1]:\n",
      "                                        circuitHops.append(details)\n",
      "                                else:\n",
      "                                    circuitHops.append(details)\n",
      "                                \n",
      "                    key = str([ipSAMap[source],ipSAMap[destination]])\n",
      "                    if len(circuitHops) > 0:\n",
      "                        \n",
      "                        updateRouteCountMap(key, 1, 0)\n",
      "                        updateMajorCircuitLocMap(key, circuitHops)\n",
      "                        updateMajorCircuitISPMap(key, circuitHops)\n",
      "                        \n",
      "                        if key not in circuitMap:\n",
      "                            circuitHopsList = [circuitHops]\n",
      "                            circuitMap[key] = circuitHopsList\n",
      "                        else:\n",
      "                            circuitHopsList = circuitMap[key]\n",
      "#                             print(key, circuitHops)\n",
      "#                             print(circuitHopsList)\n",
      "                            \n",
      "                            if circuitHops not in circuitHopsList:\n",
      "                                circuitHopsList.append(circuitHops)\n",
      "                                circuitMap[key] = circuitHopsList\n",
      "                    else:\n",
      "                        updateRouteCountMap(key, 0, 1)\n",
      "#     print(circuitMap)\n",
      "    print(routeCountCountryMap)\n",
      "    print(majorCircuitLocMap)\n",
      "    print(majorCircuitISPMap)\n",
      "    print(majorCircuitMap)\n",
      "    print(majorCircuitISPFreqMap)\n",
      "#     print(circuitousISP)\n",
      "    \n",
      "    srcPathColorMap = {}\n",
      "    colorIndex = 0\n",
      "    \n",
      "    try:\n",
      "        os.remove(srcdir + '\\\\circuitousIPforSAGeoData_Series1.csv')\n",
      "    except:\n",
      "        pass\n",
      "    \n",
      "    with open(srcdir + '\\\\circuitousIPforSAGeoData_Series1.csv','a') as mf:\n",
      "        writer = csv.writer(mf, delimiter='\\t')\n",
      "        for key in circuitMap:\n",
      "            srcDestDetails = ast.literal_eval(key)\n",
      "            srcDet = srcDestDetails[0]\n",
      "            destDet = srcDestDetails[1]\n",
      "            if srcDet[0] in srcPathColorMap:\n",
      "                color = srcPathColorMap[srcDet[0]]\n",
      "            else:\n",
      "                color = colorIndex\n",
      "                colorIndex += 1\n",
      "                srcPathColorMap[srcDet[0]] = color\n",
      "\n",
      "            circuitHopsList = circuitMap[key]\n",
      "            for circuitHops in circuitHopsList:\n",
      "                \n",
      "                pathList = [color] + srcDet + list(itertools.chain.from_iterable(circuitHops)) + destDet\n",
      "                writer.writerow( pathList)\n",
      "            \n",
      "            \n",
      "#             for i in xrange(len(pathList)-1):\n",
      "#                 outList = pathList[i] + pathList[i+1]\n",
      "#                 writer.writerow([color] + outList)\n",
      "            \n",
      "            \n",
      "    \n",
      "                \n",
      "detectCircuitousPath()\n",
      "                            \n",
      "                \n",
      "                \n",
      "                \n",
      "            \n",
      "            "
     ],
     "language": "python",
     "metadata": {},
     "outputs": [
      {
       "output_type": "stream",
       "stream": "stdout",
       "text": [
        "{u'AR,SA:BO,SA': [446, 20], u'AR,SA:SR,SA': [2, 0], u'EC,SA:PE,SA': [230, 2], u'BR,SA:PE,SA': [347, 85], u'UY,SA:PY,SA': [0, 163], u'UY,SA:UY,SA': [0, 7015], u'BR,SA:CO,SA': [3789, 91], u'AR,SA:None,None': [1, 0], u'BR,SA:GF,SA': [6, 0], u'EC,SA:UY,SA': [107, 4], u'UY,SA:CO,SA': [0, 3080], u'UY,SA:CL,SA': [12, 959], u'EC,SA:EU,EU': [9, 0], u'BR,SA:AR,SA': [3506, 790], u'UY,SA:AR,SA': [4, 3411], u'BR,SA:PY,SA': [158, 49], u'UY,SA:EC,SA': [2, 1133], u'EC,SA:AR,SA': [2141, 110], u'BR,SA:IT,EU': [1, 0], u'BR,SA:UY,SA': [84, 125], u'UY,SA:PE,SA': [0, 352], u'UY,SA:GF,SA': [0, 5], u'AR,SA:GF,SA': [6, 0], u'EC,SA:BO,SA': [233, 0], u'BR,SA:SR,SA': [2, 0], u'AR,SA:US,NA': [19, 0], u'EC,SA:PY,SA': [109, 0], u'AR,SA:VE,SA': [1046, 44], u'BR,SA:EC,SA': [1372, 59], u'AR,SA:GY,SA': [14, 0], u'EC,SA:CO,SA': [1957, 91], u'AR,SA:EC,SA': [1342, 164], u'EC,SA:GY,SA': [7, 0], u'AR,SA:AR,SA': [856, 3631], u'AR,SA:PE,SA': [343, 121], u'AR,SA:UY,SA': [77, 146], u'AR,SA:CL,SA': [696, 558], u'AR,SA:BR,SA': [4841, 8893], u'BR,SA:BR,SA': [2075, 10996], u'EC,SA:US,NA': [13, 0], u'EC,SA:VE,SA': [519, 26], u'BR,SA:BO,SA': [428, 8], u'EC,SA:BR,SA': [6663, 223], u'BR,SA:US,NA': [19, 0], u'EC,SA:SR,SA': [1, 0], u'UY,SA:VE,SA': [0, 824], u'UY,SA:BR,SA': [6, 10335], u'BR,SA:None,None': [1, 0], u'UY,SA:SR,SA': [0, 2], u'UY,SA:GY,SA': [0, 9], u'EC,SA:GF,SA': [3, 0], u'EC,SA:EC,SA': [37, 713], u'UY,SA:BO,SA': [0, 347], u'AR,SA:PY,SA': [94, 124], u'EC,SA:CL,SA': [581, 44], u'AR,SA:CO,SA': [3666, 429], u'BR,SA:VE,SA': [999, 35], u'BR,SA:CL,SA': [582, 604], u'BR,SA:GY,SA': [14, 0]}\n",
        "{u'BR,SA': {u'NL,EU': 2, u'NA,AF': 2, u'A2,--': 5, u'US,NA': 19792, u'CN,AS': 2, u'SX,NA': 3, u'MX,NA': 18, u'AU,OC': 10, u'IR,AS': 1, u'IT,EU': 2569, u'FI,EU': 2, 'None,None': 14, u'GT,NA': 72, u'FR,EU': 646, u'ES,EU': 2858, u'PA,NA': 6, u'TH,AS': 2, u'GB,EU': 6, u'CR,NA': 1, u'DE,EU': 23, u'CA,NA': 3, u'IL,AS': 2, u'EU,EU': 623}, u'EC,SA': {u'NL,EU': 25, u'NA,AF': 1, u'A2,--': 218, u'PT,EU': 718, u'US,NA': 3949, u'SX,NA': 2, u'MX,NA': 13, 'None,None': 1, u'IR,AS': 1, u'IT,EU': 1222, u'FI,EU': 1, u'AU,OC': 10, u'GT,NA': 37, u'FR,EU': 101, u'ES,EU': 1757, u'PA,NA': 3, u'GB,EU': 40, u'CR,NA': 1, u'DE,EU': 25, u'CA,NA': 3, u'PR,NA': 38, u'IL,AS': 2, u'EU,EU': 12583}, u'AR,SA': {u'NL,EU': 7, u'NA,AF': 2, u'A2,--': 273, u'US,NA': 18904, u'CN,AS': 2, u'SX,NA': 4, u'MX,NA': 1465, u'AU,OC': 14, u'IR,AS': 1, u'IT,EU': 5232, u'FI,EU': 2, 'None,None': 18, u'GT,NA': 74, u'FR,EU': 358, u'ES,EU': 2397, u'PA,NA': 5, u'TH,AS': 1, u'GB,EU': 2, u'CR,NA': 2, u'DE,EU': 319, u'CA,NA': 7, u'IL,AS': 4, u'EU,EU': 1018}, u'UY,SA': {u'AU,OC': 12, u'IR,AS': 2, u'US,NA': 16, u'NA,AF': 2}}\n",
        "{u'None::US::NA': {u'AR,SA:BO,SA': 39, u'AR,SA:SR,SA': 1, u'AR,SA:AR,SA': 24, u'BR,SA:CO,SA': 463, u'BR,SA:PE,SA': 26, u'UY,SA:AR,SA': 2, u'BR,SA:PY,SA': 1, u'EC,SA:AR,SA': 1, u'BR,SA:UY,SA': 3, u'AR,SA:US,NA': 3, u'BR,SA:BO,SA': 117, u'AR,SA:VE,SA': 68, u'AR,SA:GY,SA': 6, u'BR,SA:AR,SA': 63, u'AR,SA:PE,SA': 1, u'AR,SA:UY,SA': 2, u'AR,SA:CL,SA': 3, u'AR,SA:BR,SA': 951, u'BR,SA:BR,SA': 24, u'EC,SA:BR,SA': 4, u'BR,SA:US,NA': 1, u'AR,SA:PY,SA': 28, u'EC,SA:CL,SA': 1, u'AR,SA:CO,SA': 285, u'BR,SA:VE,SA': 84, u'BR,SA:CL,SA': 3, u'BR,SA:GY,SA': 2}, u'AT::US::NA': {u'EC,SA:BR,SA': 7, u'BR,SA:US,NA': 1, u'EC,SA:CO,SA': 2, u'BR,SA:CO,SA': 4, u'AR,SA:BR,SA': 7, u'AR,SA:CO,SA': 4, u'BR,SA:BR,SA': 7}, u'Serverius Holding B.V.::NL::EU': {u'EC,SA:BR,SA': 1}, u'Deutsche Telekom AG::DE::EU': {u'EC,SA:BR,SA': 3}, u'Emerging Markets Communications de Argentina S.R.L::A2::--': {u'EC,SA:AR,SA': 1, u'BR,SA:AR,SA': 2, u'AR,SA:AR,SA': 2}, u'TeliaSonera Finland Oyj::FI::EU': {u'EC,SA:BR,SA': 1, u'AR,SA:BR,SA': 2, u'BR,SA:BR,SA': 2}, u'Tinet SpA::DE::EU': {u'AR,SA:CL,SA': 12, u'EC,SA:UY,SA': 1, u'AR,SA:EC,SA': 32, u'AR,SA:AR,SA': 1, u'BR,SA:UY,SA': 1, u'AR,SA:PE,SA': 4, u'AR,SA:UY,SA': 1, u'AR,SA:PY,SA': 18, u'AR,SA:BR,SA': 41, u'AR,SA:CO,SA': 167, u'BR,SA:VE,SA': 4, u'AR,SA:VE,SA': 27}, u'Telefonica Moviles Panama S.A.::PA::NA': {u'BR,SA:VE,SA': 2, u'EC,SA:VE,SA': 1, u'AR,SA:VE,SA': 1}, u'DataBank Holdings, Ltd.::US::NA': {u'EC,SA:US,NA': 1, u'AR,SA:AR,SA': 1, u'BR,SA:US,NA': 1, u'AR,SA:US,NA': 1}, u'TeliaSonera International Carrier::DE::EU': {u'AR,SA:BO,SA': 14, u'BR,SA:BO,SA': 16, u'EC,SA:BO,SA': 17, u'EC,SA:EU,EU': 3}, u'Terra Networks Operations Inc.::US::NA': {u'EC,SA:BR,SA': 2}, u'Pacific Internet (Australia) Pty Ltd::AU::OC': {u'EC,SA:BR,SA': 2, u'AR,SA:BR,SA': 4, u'BR,SA:BR,SA': 4}, u'IFX Corporation::US::NA': {u'BR,SA:AR,SA': 40, u'EC,SA:CO,SA': 4, u'EC,SA:AR,SA': 20, u'AR,SA:AR,SA': 8, u'BR,SA:CO,SA': 5, u'BR,SA:VE,SA': 5, u'AR,SA:BR,SA': 1, u'AR,SA:CO,SA': 3, u'EC,SA:VE,SA': 1, u'AR,SA:VE,SA': 4}, u'SYSTEL S.A.::None::None': {u'BR,SA:CL,SA': 2, u'EC,SA:CL,SA': 1}, u'Orange S.A.::FR::EU': {u'AR,SA:GF,SA': 2, u'AR,SA:VE,SA': 2}, u'JasTel Network International Gateway::TH::AS': {u'BR,SA:BR,SA': 2, u'AR,SA:BR,SA': 1}, u'None::MX::NA': {u'AR,SA:CL,SA': 110, u'AR,SA:BR,SA': 376}, u'Sprint::US::NA': {u'EC,SA:BR,SA': 69, u'BR,SA:US,NA': 3, u'BR,SA:EC,SA': 18, u'AR,SA:GY,SA': 4, u'EC,SA:CO,SA': 79, u'AR,SA:EC,SA': 29, u'EC,SA:AR,SA': 9, u'AR,SA:AR,SA': 9, u'BR,SA:CO,SA': 520, u'BR,SA:PY,SA': 6, u'BR,SA:VE,SA': 22, u'AR,SA:PY,SA': 11, u'AR,SA:BR,SA': 10, u'AR,SA:CO,SA': 1124, u'BR,SA:BR,SA': 4, u'EC,SA:VE,SA': 17, u'AR,SA:US,NA': 3, u'EC,SA:PY,SA': 8, u'AR,SA:VE,SA': 33}, u'Ultranet Telecomunica\\xe7\\xf5es Ltda::US::NA': {u'EC,SA:BR,SA': 1, u'AR,SA:BR,SA': 2, u'BR,SA:BR,SA': 1}, u'China Telecom Next Generation Carrier Network::CN::AS': {u'BR,SA:BR,SA': 2, u'AR,SA:BR,SA': 2}, u'Columbus Networks USA, Inc.::US::NA': {u'BR,SA:PE,SA': 1, u'AR,SA:SR,SA': 1, u'AR,SA:GY,SA': 4, u'EC,SA:CO,SA': 49, u'EC,SA:GY,SA': 4, u'BR,SA:CO,SA': 184, u'AR,SA:PE,SA': 2, u'BR,SA:VE,SA': 53, u'AR,SA:CO,SA': 214, u'EC,SA:VE,SA': 48, u'AR,SA:VE,SA': 96}, u'Internap Network Services Corporation::US::NA': {u'EC,SA:AR,SA': 2, u'BR,SA:AR,SA': 4, u'EC,SA:VE,SA': 2, u'AR,SA:AR,SA': 3}, u'Global IP Networks INC::US::NA': {u'AR,SA:CO,SA': 2, u'BR,SA:CO,SA': 2, u'EC,SA:CO,SA': 1}, u'Google Inc.::AU::OC': {u'UY,SA:CL,SA': 12, u'AR,SA:BR,SA': 1, u'AR,SA:CL,SA': 9, u'EC,SA:CL,SA': 8, u'BR,SA:BR,SA': 3, u'BR,SA:CL,SA': 3}, u'3ZCANADA - 1651884 Ontario Inc.::CA::NA': {u'EC,SA:BR,SA': 2, u'AR,SA:BR,SA': 4, u'BR,SA:BR,SA': 3}, u'Govt-Namibia::NA::AF': {u'EC,SA:AR,SA': 1, u'BR,SA:AR,SA': 2, u'UY,SA:AR,SA': 2, u'AR,SA:AR,SA': 2}, u'Black Lotus Communications::US::NA': {u'EC,SA:BR,SA': 2, u'AR,SA:BR,SA': 2}, u'MCI Communications Services, Inc. d/b/a Verizon Business::US::NA': {u'BR,SA:PE,SA': 15, u'AR,SA:BO,SA': 2, u'BR,SA:AR,SA': 75, u'EC,SA:BO,SA': 2, u'AR,SA:GY,SA': 3, u'EC,SA:BR,SA': 70, u'BR,SA:US,NA': 2, u'EC,SA:UY,SA': 14, u'AR,SA:AR,SA': 2, u'AR,SA:PE,SA': 2, u'AR,SA:UY,SA': 6, u'AR,SA:CL,SA': 2, u'AR,SA:BR,SA': 154, u'BR,SA:BR,SA': 455, u'BR,SA:BO,SA': 2, u'BR,SA:CL,SA': 18, u'BR,SA:GY,SA': 1}, u'Biyort USA::US::NA': {u'EC,SA:BR,SA': 127, u'BR,SA:US,NA': 1, u'AR,SA:BR,SA': 193, u'BR,SA:BR,SA': 7, u'EC,SA:US,NA': 1, u'AR,SA:US,NA': 2}, u'TATA COMMUNICATIONS (AMERICA) INC::US::NA': {u'AR,SA:BO,SA': 33, u'EC,SA:PE,SA': 37, u'AR,SA:AR,SA': 9, u'BR,SA:CO,SA': 245, u'BR,SA:PE,SA': 49, u'BR,SA:PY,SA': 11, u'EC,SA:AR,SA': 16, u'AR,SA:GF,SA': 2, u'EC,SA:BO,SA': 14, u'EC,SA:PY,SA': 7, u'AR,SA:VE,SA': 4, u'EC,SA:CO,SA': 4, u'BR,SA:AR,SA': 13, u'AR,SA:PE,SA': 64, u'BR,SA:VE,SA': 1, u'AR,SA:CL,SA': 10, u'AR,SA:BR,SA': 29, u'EC,SA:VE,SA': 1, u'BR,SA:BO,SA': 28, u'EC,SA:BR,SA': 213, u'BR,SA:GF,SA': 2, u'EC,SA:GF,SA': 1, u'AR,SA:PY,SA': 8, u'EC,SA:CL,SA': 7, u'AR,SA:CO,SA': 129, u'BR,SA:CL,SA': 6}, u'Cable::PA::NA': {u'EC,SA:UY,SA': 1, u'AR,SA:UY,SA': 2, u'BR,SA:UY,SA': 2, u'AR,SA:VE,SA': 1}, u'Level 3 Communications, Inc.::DE::EU': {u'EC,SA:BR,SA': 1, u'AR,SA:BR,SA': 2, u'BR,SA:BR,SA': 2}, u'Telefonica Backbone Autonomous System::ES::EU': {u'AR,SA:BO,SA': 263, u'EC,SA:PE,SA': 91, u'AR,SA:AR,SA': 54, u'BR,SA:CO,SA': 710, u'BR,SA:AR,SA': 890, u'BR,SA:PY,SA': 80, u'EC,SA:AR,SA': 472, u'BR,SA:UY,SA': 18, u'EC,SA:BO,SA': 128, u'EC,SA:PY,SA': 35, u'AR,SA:VE,SA': 12, u'BR,SA:EC,SA': 501, u'AR,SA:GY,SA': 3, u'EC,SA:CO,SA': 349, u'AR,SA:EC,SA': 368, u'BR,SA:PE,SA': 184, u'AR,SA:PE,SA': 178, u'AR,SA:UY,SA': 21, u'AR,SA:CL,SA': 224, u'AR,SA:BR,SA': 504, u'BR,SA:BR,SA': 18, u'EC,SA:VE,SA': 7, u'BR,SA:BO,SA': 246, u'EC,SA:BR,SA': 524, u'EC,SA:UY,SA': 36, u'EC,SA:EC,SA': 2, u'AR,SA:PY,SA': 24, u'EC,SA:CL,SA': 113, u'AR,SA:CO,SA': 746, u'BR,SA:VE,SA': 15, u'BR,SA:CL,SA': 194, u'BR,SA:GY,SA': 2}, u'Dadeh Gostar Asr Novin P.J.S. Co.::IR::AS': {u'AR,SA:EC,SA': 1, u'BR,SA:EC,SA': 1, u'EC,SA:EC,SA': 1, u'UY,SA:EC,SA': 2}, u'Telefonica Backbone Autonomous System::US::NA': {u'AR,SA:BO,SA': 4, u'BR,SA:PE,SA': 2, u'EC,SA:BO,SA': 2, u'AR,SA:GY,SA': 2, u'EC,SA:BR,SA': 29, u'AR,SA:EC,SA': 50, u'EC,SA:CO,SA': 6, u'BR,SA:CO,SA': 12, u'AR,SA:PE,SA': 1, u'BR,SA:PY,SA': 4, u'AR,SA:PY,SA': 1, u'AR,SA:BR,SA': 36, u'AR,SA:CO,SA': 14, u'BR,SA:BR,SA': 3, u'EC,SA:PE,SA': 1, u'EC,SA:PY,SA': 2, u'BR,SA:EC,SA': 59}, u'TripartZ B.V.::NL::EU': {u'EC,SA:BR,SA': 1, u'BR,SA:US,NA': 1, u'EC,SA:CL,SA': 1, u'EC,SA:US,NA': 1, u'AR,SA:US,NA': 2, u'BR,SA:CL,SA': 1}, u'Frontier Communications of America, Inc.::US::NA': {u'BR,SA:BR,SA': 18}, u'SoftLayer Technologies Inc.::US::NA': {u'EC,SA:BR,SA': 1, u'AR,SA:BR,SA': 4, u'BR,SA:BR,SA': 4}, u'PT Comunicacoes S A::PT::EU': {u'EC,SA:BR,SA': 696, u'EC,SA:BO,SA': 1, u'EC,SA:PY,SA': 21}, u'Eweka Internet Services B.V.::US::NA': {u'EC,SA:BR,SA': 153, u'BR,SA:AR,SA': 1, u'AR,SA:AR,SA': 1, u'AR,SA:BR,SA': 343, u'BR,SA:BR,SA': 105, u'EC,SA:US,NA': 1, u'AR,SA:US,NA': 2, u'BR,SA:US,NA': 1}, u'Outremer Telecom::FR::EU': {u'BR,SA:GF,SA': 2, u'AR,SA:GF,SA': 2, u'EC,SA:GF,SA': 1}, u'Uninet S.A. de C.V.::MX::NA': {u'BR,SA:PE,SA': 1, u'AR,SA:BR,SA': 750, u'EC,SA:PE,SA': 1, u'AR,SA:PE,SA': 2, u'AR,SA:CL,SA': 227, u'EC,SA:CL,SA': 12, u'BR,SA:CL,SA': 17}, u'Voxel Dot Net, Inc.::US::NA': {u'AR,SA:AR,SA': 1}, u'Beyond The Network America, Inc.::US::NA': {u'AR,SA:BR,SA': 2, u'AR,SA:AR,SA': 1, u'BR,SA:CO,SA': 5, u'AR,SA:CL,SA': 6, u'EC,SA:CL,SA': 1, u'AR,SA:CO,SA': 48, u'BR,SA:CL,SA': 3}, u'Staminus Communications::US::NA': {u'EC,SA:BR,SA': 4, u'AR,SA:BR,SA': 12, u'BR,SA:BR,SA': 3}, u'Qwest Communications Company, LLC::US::NA': {u'BR,SA:AR,SA': 1}, u'Videotron Telecom Ltee::CA::NA': {u'AR,SA:CL,SA': 2}, u'Telmex USA::US::NA': {u'BR,SA:CL,SA': 5, u'AR,SA:CL,SA': 7, u'EC,SA:CL,SA': 3}, u'TeliaSonera International Carrier::EU::EU': {u'AR,SA:BO,SA': 25, u'EC,SA:PE,SA': 230, u'AR,SA:AR,SA': 32, u'BR,SA:CO,SA': 264, u'EC,SA:EU,EU': 12, u'BR,SA:AR,SA': 72, u'EC,SA:AR,SA': 2137, u'BR,SA:UY,SA': 22, u'EC,SA:BO,SA': 233, u'AR,SA:US,NA': 4, u'EC,SA:PY,SA': 109, u'AR,SA:VE,SA': 53, u'BR,SA:EC,SA': 213, u'EC,SA:CO,SA': 1957, u'AR,SA:EC,SA': 233, u'EC,SA:GY,SA': 7, u'AR,SA:UY,SA': 11, u'AR,SA:CL,SA': 14, u'AR,SA:BR,SA': 9, u'BR,SA:BR,SA': 5, u'EC,SA:US,NA': 11, u'EC,SA:VE,SA': 519, u'EC,SA:BR,SA': 6660, u'EC,SA:SR,SA': 1, u'EC,SA:UY,SA': 107, u'EC,SA:GF,SA': 3, u'EC,SA:EC,SA': 22, u'BR,SA:BO,SA': 16, u'EC,SA:CL,SA': 574, u'AR,SA:CO,SA': 635, u'BR,SA:VE,SA': 15, u'BR,SA:CL,SA': 14}, u'GlobeNet Cabos Submarinos VZLA, S.A.::US::NA': {u'EC,SA:BR,SA': 68, u'EC,SA:CL,SA': 10, u'EC,SA:CO,SA': 292, u'AR,SA:EC,SA': 5, u'EC,SA:EC,SA': 18, u'BR,SA:CO,SA': 202, u'BR,SA:EC,SA': 34, u'BR,SA:VE,SA': 53, u'AR,SA:BR,SA': 2, u'AR,SA:CO,SA': 119, u'BR,SA:BR,SA': 1, u'EC,SA:VE,SA': 239, u'EC,SA:PE,SA': 1, u'AR,SA:VE,SA': 48}, u'XO Communications::US::NA': {u'EC,SA:BR,SA': 8, u'BR,SA:EC,SA': 4, u'EC,SA:CO,SA': 29, u'AR,SA:EC,SA': 4, u'AR,SA:AR,SA': 1, u'BR,SA:CO,SA': 97, u'BR,SA:VE,SA': 8, u'AR,SA:BR,SA': 3, u'AR,SA:CO,SA': 67, u'EC,SA:VE,SA': 1, u'EC,SA:AR,SA': 2, u'AR,SA:VE,SA': 18}, u'COSTARRICENSE::CR::NA': {u'BR,SA:UY,SA': 1, u'AR,SA:UY,SA': 2, u'EC,SA:UY,SA': 1}, u'Adexus S.A.::US::NA': {u'BR,SA:CL,SA': 2, u'AR,SA:CL,SA': 2, u'EC,SA:CL,SA': 1}, u'TERRENAP DATA CENTERS, INC.::US::NA': {u'EC,SA:BR,SA': 8, u'BR,SA:AR,SA': 3, u'EC,SA:AR,SA': 2, u'AR,SA:AR,SA': 4, u'BR,SA:CO,SA': 4, u'AR,SA:BR,SA': 16, u'AR,SA:CO,SA': 2, u'BR,SA:BR,SA': 2}, u'Columbus Networks Panama::PA::NA': {u'AR,SA:CO,SA': 1, u'BR,SA:CO,SA': 2, u'EC,SA:CO,SA': 1}, u'LATAM Venezuela, S.A.::US::NA': {u'BR,SA:VE,SA': 2, u'EC,SA:VE,SA': 1, u'AR,SA:VE,SA': 2}, u'TELECOM ITALIA SPARKLE S.p.A.::A2::--': {u'EC,SA:BR,SA': 217, u'AR,SA:BR,SA': 271, u'BR,SA:BR,SA': 3}, u'KPN International / KPN Eurorings::NL::EU': {u'EC,SA:BR,SA': 21, u'AR,SA:BR,SA': 5}, u'N.V.::SX::NA': {u'BR,SA:UY,SA': 3, u'AR,SA:UY,SA': 4, u'EC,SA:UY,SA': 2}, u'BRASIL LTDA::US::NA': {u'BR,SA:CL,SA': 2, u'AR,SA:CL,SA': 1, u'EC,SA:CL,SA': 1}, u'The New York Internet Company::US::NA': {u'EC,SA:BR,SA': 2, u'AR,SA:BR,SA': 4}, u'Level 3 Communications, Inc.::US::NA': {u'AR,SA:BO,SA': 452, u'AR,SA:SR,SA': 2, u'EC,SA:PE,SA': 4, u'AR,SA:AR,SA': 630, u'BR,SA:CO,SA': 3145, u'BR,SA:AR,SA': 2216, u'BR,SA:PY,SA': 106, u'EC,SA:AR,SA': 351, u'BR,SA:IT,EU': 2, u'BR,SA:UY,SA': 72, u'AR,SA:GF,SA': 6, u'EC,SA:BO,SA': 22, u'BR,SA:SR,SA': 2, u'AR,SA:US,NA': 13, u'EC,SA:PY,SA': 8, u'AR,SA:VE,SA': 1284, u'BR,SA:EC,SA': 1393, u'AR,SA:GY,SA': 10, u'EC,SA:CO,SA': 14, u'AR,SA:EC,SA': 1636, u'BR,SA:PE,SA': 287, u'AR,SA:PE,SA': 360, u'AR,SA:UY,SA': 61, u'AR,SA:CL,SA': 499, u'AR,SA:BR,SA': 4196, u'BR,SA:BR,SA': 1924, u'EC,SA:US,NA': 7, u'EC,SA:VE,SA': 142, u'BR,SA:BO,SA': 300, u'EC,SA:BR,SA': 1085, u'BR,SA:US,NA': 11, u'BR,SA:GF,SA': 6, u'EC,SA:UY,SA': 19, u'BR,SA:None,None': 2, u'EC,SA:EC,SA': 13, u'AR,SA:PY,SA': 92, u'EC,SA:CL,SA': 46, u'AR,SA:CO,SA': 3694, u'BR,SA:VE,SA': 859, u'BR,SA:CL,SA': 401, u'BR,SA:GY,SA': 10}, u'Cogent Communications::PR::NA': {u'EC,SA:BR,SA': 38}, u'S.A.::US::NA': {u'AR,SA:CO,SA': 2, u'BR,SA:CO,SA': 1, u'EC,SA:CO,SA': 1}, u'Telefonica USA, Inc.::US::NA': {u'EC,SA:BR,SA': 2}, u'The Corporation for Financing::None::None': {u'BR,SA:BR,SA': 11, u'AR,SA:None,None': 1, u'AR,SA:BR,SA': 17, u'BR,SA:None,None': 1}, u'tzulo, inc.::US::NA': {u'BR,SA:US,NA': 1, u'BR,SA:CL,SA': 1, u'EC,SA:US,NA': 1, u'AR,SA:US,NA': 2, u'EC,SA:CL,SA': 2}, u'Bezeqint Internet Backbone::IL::AS': {u'AR,SA:PY,SA': 4, u'EC,SA:PY,SA': 2, u'BR,SA:PY,SA': 2}, u'FloridaNet::US::NA': {u'BR,SA:PE,SA': 1, u'BR,SA:VE,SA': 22, u'BR,SA:CO,SA': 80}, u'GUATEMALA S.A.::GT::NA': {u'AR,SA:BO,SA': 74, u'BR,SA:BO,SA': 72, u'EC,SA:BO,SA': 37}, u'Beyond The Network America, Inc.::GB::EU': {u'EC,SA:AR,SA': 1, u'BR,SA:AR,SA': 2, u'AR,SA:AR,SA': 1}, u'TATA COMMUNICATIONS (AMERICA) INC::EU::EU': {u'BR,SA:GF,SA': 2, u'AR,SA:GF,SA': 2, u'EC,SA:GF,SA': 1}, u'Savvis::US::NA': {u'BR,SA:CL,SA': 2, u'EC,SA:AR,SA': 1, u'AR,SA:CL,SA': 1, u'EC,SA:CL,SA': 1}, u'Tinet SpA::FR::EU': {u'EC,SA:PE,SA': 4, u'AR,SA:AR,SA': 10, u'BR,SA:CO,SA': 408, u'BR,SA:PE,SA': 4, u'BR,SA:PY,SA': 24, u'EC,SA:AR,SA': 58, u'EC,SA:PY,SA': 18, u'AR,SA:VE,SA': 20, u'BR,SA:EC,SA': 29, u'EC,SA:CO,SA': 3, u'AR,SA:EC,SA': 47, u'BR,SA:AR,SA': 110, u'AR,SA:PE,SA': 6, u'BR,SA:VE,SA': 26, u'AR,SA:CL,SA': 24, u'AR,SA:BR,SA': 43, u'BR,SA:BR,SA': 1, u'EC,SA:VE,SA': 4, u'EC,SA:UY,SA': 1, u'AR,SA:PY,SA': 27, u'EC,SA:CL,SA': 12, u'AR,SA:CO,SA': 175, u'BR,SA:CL,SA': 42}, u'Carolina Internet, Ltd.::US::NA': {u'EC,SA:BR,SA': 4, u'AR,SA:BR,SA': 8, u'BR,SA:BR,SA': 8}, u'NTT America, Inc.::US::NA': {u'AR,SA:BO,SA': 69, u'EC,SA:PE,SA': 1, u'BR,SA:PE,SA': 2, u'AR,SA:AR,SA': 3, u'BR,SA:CO,SA': 240, u'BR,SA:AR,SA': 56, u'BR,SA:PY,SA': 19, u'EC,SA:AR,SA': 8, u'BR,SA:UY,SA': 7, u'EC,SA:BO,SA': 28, u'AR,SA:US,NA': 1, u'BR,SA:BO,SA': 23, u'AR,SA:VE,SA': 3, u'BR,SA:EC,SA': 48, u'AR,SA:GY,SA': 2, u'EC,SA:CO,SA': 33, u'AR,SA:EC,SA': 16, u'EC,SA:GY,SA': 1, u'AR,SA:PE,SA': 16, u'AR,SA:UY,SA': 3, u'AR,SA:CL,SA': 61, u'AR,SA:BR,SA': 33, u'BR,SA:BR,SA': 2, u'EC,SA:BR,SA': 90, u'EC,SA:UY,SA': 5, u'EC,SA:CL,SA': 36, u'AR,SA:CO,SA': 706, u'BR,SA:VE,SA': 19, u'BR,SA:CL,SA': 70}, u'Tinet SpA::US::NA': {u'BR,SA:UY,SA': 1, u'BR,SA:AR,SA': 99, u'BR,SA:EC,SA': 105, u'BR,SA:PY,SA': 16, u'EC,SA:PE,SA': 1, u'BR,SA:CL,SA': 33, u'AR,SA:EC,SA': 57, u'BR,SA:PE,SA': 9, u'AR,SA:AR,SA': 2, u'EC,SA:EC,SA': 2, u'AR,SA:PE,SA': 2, u'BR,SA:VE,SA': 91, u'AR,SA:PY,SA': 8, u'AR,SA:BR,SA': 37, u'AR,SA:CO,SA': 222, u'BR,SA:BR,SA': 1, u'BR,SA:CO,SA': 2064, u'EC,SA:VE,SA': 4, u'EC,SA:AR,SA': 1, u'EC,SA:PY,SA': 7, u'AR,SA:VE,SA': 29}, u'Internet Systems Consortium, Inc.::US::NA': {u'BR,SA:CL,SA': 2, u'AR,SA:CL,SA': 2, u'EC,SA:CL,SA': 2}, u'Bell Canada::CA::NA': {u'AR,SA:GF,SA': 1, u'EC,SA:GF,SA': 1}, u'Telx::US::NA': {u'AR,SA:AR,SA': 1}, u'Level 3 Communications, Inc.::GB::EU': {u'EC,SA:BR,SA': 38, u'EC,SA:AR,SA': 1, u'BR,SA:AR,SA': 2, u'AR,SA:BR,SA': 1, u'BR,SA:CO,SA': 2}, u'Cogent Communications::US::NA': {u'AR,SA:BO,SA': 4, u'AR,SA:SR,SA': 2, u'AR,SA:AR,SA': 9, u'BR,SA:CO,SA': 80, u'EC,SA:EU,EU': 3, u'BR,SA:AR,SA': 14, u'EC,SA:AR,SA': 5, u'BR,SA:UY,SA': 3, u'EC,SA:BO,SA': 5, u'BR,SA:SR,SA': 2, u'AR,SA:US,NA': 4, u'AR,SA:VE,SA': 22, u'BR,SA:EC,SA': 28, u'AR,SA:GY,SA': 16, u'EC,SA:CO,SA': 26, u'EC,SA:GY,SA': 4, u'AR,SA:UY,SA': 2, u'AR,SA:CL,SA': 43, u'AR,SA:BR,SA': 6, u'BR,SA:BR,SA': 5, u'EC,SA:US,NA': 1, u'EC,SA:VE,SA': 1, u'EC,SA:BR,SA': 166, u'EC,SA:SR,SA': 1, u'EC,SA:UY,SA': 2, u'EC,SA:CL,SA': 31, u'AR,SA:CO,SA': 53, u'BR,SA:VE,SA': 4, u'BR,SA:CL,SA': 62, u'BR,SA:GY,SA': 24}, u'Florida International University::US::NA': {u'EC,SA:BR,SA': 6, u'BR,SA:AR,SA': 1458, u'BR,SA:EC,SA': 128, u'BR,SA:PY,SA': 51, u'UY,SA:BR,SA': 12, u'BR,SA:US,NA': 3, u'BR,SA:PE,SA': 28, u'BR,SA:IT,EU': 1, u'BR,SA:CO,SA': 375, u'BR,SA:VE,SA': 332, u'BR,SA:BO,SA': 11, u'AR,SA:BR,SA': 6, u'BR,SA:BR,SA': 12, u'BR,SA:UY,SA': 17, u'BR,SA:CL,SA': 114, u'AR,SA:VE,SA': 1}, u'TELECOM ITALIA SPARKLE S.p.A.::IT::EU': {u'AR,SA:BO,SA': 184, u'EC,SA:PE,SA': 21, u'AR,SA:AR,SA': 580, u'BR,SA:CO,SA': 180, u'BR,SA:AR,SA': 1749, u'BR,SA:PY,SA': 49, u'EC,SA:AR,SA': 530, u'BR,SA:IT,EU': 2, u'BR,SA:UY,SA': 5, u'AR,SA:GF,SA': 3, u'EC,SA:BO,SA': 6, u'AR,SA:US,NA': 5, u'EC,SA:PY,SA': 15, u'AR,SA:VE,SA': 488, u'BR,SA:EC,SA': 83, u'EC,SA:CO,SA': 1, u'AR,SA:EC,SA': 739, u'BR,SA:PE,SA': 40, u'AR,SA:PE,SA': 183, u'AR,SA:UY,SA': 53, u'AR,SA:CL,SA': 326, u'AR,SA:BR,SA': 1100, u'BR,SA:BR,SA': 23, u'EC,SA:US,NA': 1, u'EC,SA:VE,SA': 21, u'BR,SA:BO,SA': 12, u'EC,SA:BR,SA': 599, u'BR,SA:US,NA': 3, u'AR,SA:PY,SA': 22, u'EC,SA:CL,SA': 28, u'AR,SA:CO,SA': 1549, u'BR,SA:VE,SA': 308, u'BR,SA:CL,SA': 115}, u'The Southern Company::US::NA': {u'EC,SA:AR,SA': 1, u'BR,SA:AR,SA': 2, u'UY,SA:AR,SA': 2, u'AR,SA:AR,SA': 2}, u'DiViNetworks LTD.::US::NA': {u'BR,SA:AR,SA': 8, u'EC,SA:AR,SA': 4, u'BR,SA:PE,SA': 10, u'AR,SA:PE,SA': 9, u'EC,SA:PE,SA': 6, u'BR,SA:BO,SA': 1}, u'AOL Transit Data Network::US::NA': {u'EC,SA:US,NA': 1, u'BR,SA:US,NA': 1}, u'Hurricane Electric, Inc.::US::NA': {u'EC,SA:BR,SA': 5, u'BR,SA:AR,SA': 1, u'BR,SA:PY,SA': 1, u'EC,SA:AR,SA': 1, u'AR,SA:AR,SA': 2, u'BR,SA:VE,SA': 10, u'AR,SA:CL,SA': 4, u'AR,SA:BR,SA': 14, u'BR,SA:BR,SA': 4, u'AR,SA:VE,SA': 7, u'EC,SA:VE,SA': 4, u'BR,SA:CL,SA': 4, u'AR,SA:PY,SA': 1}}\n",
        "{u'BR,SA': [13383, 12842], u'EC,SA': [12610, 1213], u'AR,SA': [13449, 14130], u'UY,SA': [24, 27635]}\n",
        "{u'None::US::NA': 2206, u'AT::US::NA': 32, u'Serverius Holding B.V.::NL::EU': 1, u'Deutsche Telekom AG::DE::EU': 3, u'Emerging Markets Communications de Argentina S.R.L::A2::--': 5, u'TeliaSonera Finland Oyj::FI::EU': 5, u'Tinet SpA::DE::EU': 309, u'Telefonica Moviles Panama S.A.::PA::NA': 4, u'DataBank Holdings, Ltd.::US::NA': 4, u'TeliaSonera International Carrier::DE::EU': 50, u'Terra Networks Operations Inc.::US::NA': 2, u'Pacific Internet (Australia) Pty Ltd::AU::OC': 10, u'IFX Corporation::US::NA': 91, u'SYSTEL S.A.::None::None': 3, u'Orange S.A.::FR::EU': 4, u'JasTel Network International Gateway::TH::AS': 3, u'None::MX::NA': 486, u'Sprint::US::NA': 1978, u'Ultranet Telecomunica\\xe7\\xf5es Ltda::US::NA': 4, u'China Telecom Next Generation Carrier Network::CN::AS': 4, u'Columbus Networks USA, Inc.::US::NA': 656, u'Internap Network Services Corporation::US::NA': 11, u'Global IP Networks INC::US::NA': 5, u'Google Inc.::AU::OC': 36, u'3ZCANADA - 1651884 Ontario Inc.::CA::NA': 9, u'Govt-Namibia::NA::AF': 7, u'Black Lotus Communications::US::NA': 4, u'MCI Communications Services, Inc. d/b/a Verizon Business::US::NA': 825, u'Biyort USA::US::NA': 331, u'TATA COMMUNICATIONS (AMERICA) INC::US::NA': 943, u'Cable::PA::NA': 6, u'Level 3 Communications, Inc.::DE::EU': 5, u'Telefonica Backbone Autonomous System::ES::EU': 7012, u'Dadeh Gostar Asr Novin P.J.S. Co.::IR::AS': 5, u'Telefonica Backbone Autonomous System::US::NA': 228, u'TripartZ B.V.::NL::EU': 7, u'Frontier Communications of America, Inc.::US::NA': 18, u'SoftLayer Technologies Inc.::US::NA': 9, u'PT Comunicacoes S A::PT::EU': 718, u'Eweka Internet Services B.V.::US::NA': 607, u'Outremer Telecom::FR::EU': 5, u'Uninet S.A. de C.V.::MX::NA': 1010, u'Voxel Dot Net, Inc.::US::NA': 1, u'Beyond The Network America, Inc.::US::NA': 66, u'Staminus Communications::US::NA': 19, u'Qwest Communications Company, LLC::US::NA': 1, u'Videotron Telecom Ltee::CA::NA': 2, u'Telmex USA::US::NA': 15, u'TeliaSonera International Carrier::EU::EU': 14219, u'GlobeNet Cabos Submarinos VZLA, S.A.::US::NA': 1092, u'XO Communications::US::NA': 242, u'COSTARRICENSE::CR::NA': 4, u'Adexus S.A.::US::NA': 5, u'TERRENAP DATA CENTERS, INC.::US::NA': 41, u'Columbus Networks Panama::PA::NA': 4, u'LATAM Venezuela, S.A.::US::NA': 5, u'TELECOM ITALIA SPARKLE S.p.A.::A2::--': 491, u'KPN International / KPN Eurorings::NL::EU': 26, u'N.V.::SX::NA': 9, u'BRASIL LTDA::US::NA': 4, u'The New York Internet Company::US::NA': 6, u'Level 3 Communications, Inc.::US::NA': 25382, u'Cogent Communications::PR::NA': 38, u'S.A.::US::NA': 4, u'Telefonica USA, Inc.::US::NA': 2, u'The Corporation for Financing::None::None': 30, u'tzulo, inc.::US::NA': 7, u'Bezeqint Internet Backbone::IL::AS': 8, u'FloridaNet::US::NA': 103, u'GUATEMALA S.A.::GT::NA': 183, u'Beyond The Network America, Inc.::GB::EU': 4, u'TATA COMMUNICATIONS (AMERICA) INC::EU::EU': 5, u'Savvis::US::NA': 5, u'Tinet SpA::FR::EU': 1096, u'Carolina Internet, Ltd.::US::NA': 20, u'NTT America, Inc.::US::NA': 1601, u'Tinet SpA::US::NA': 2791, u'Internet Systems Consortium, Inc.::US::NA': 6, u'Bell Canada::CA::NA': 2, u'Telx::US::NA': 1, u'Level 3 Communications, Inc.::GB::EU': 44, u'Cogent Communications::US::NA': 628, u'Florida International University::US::NA': 2555, u'TELECOM ITALIA SPARKLE S.p.A.::IT::EU': 9023, u'The Southern Company::US::NA': 7, u'DiViNetworks LTD.::US::NA': 38, u'AOL Transit Data Network::US::NA': 2, u'Hurricane Electric, Inc.::US::NA': 58}\n"
       ]
      }
     ],
     "prompt_number": 31
    },
    {
     "cell_type": "code",
     "collapsed": false,
     "input": [
      "# maps to csv\n",
      "for country in majorCircuitMap:\n",
      "    circ, noncirc = majorCircuitMap[country]\n",
      "    outStr = country + '\\t' + str(circ) + '\\t' +str(noncirc)\n",
      "    print(outStr)"
     ],
     "language": "python",
     "metadata": {},
     "outputs": [
      {
       "output_type": "stream",
       "stream": "stdout",
       "text": [
        "BR,SA\t13383\t12842\n",
        "EC,SA\t12610\t1213\n",
        "AR,SA\t13449\t14130\n",
        "UY,SA\t24\t27635\n"
       ]
      }
     ],
     "prompt_number": 23
    },
    {
     "cell_type": "code",
     "collapsed": false,
     "input": [
      "from collections import OrderedDict\n",
      "for country in majorCircuitLocMap:\n",
      "    freqMap = majorCircuitLocMap[country]\n",
      "    slist = sorted(freqMap.items(), key=lambda t: t[1], reverse=True)\n",
      "    for extCountry,freq in slist[0:5]:\n",
      "        outStr = country + '\\t' + extCountry + '\\t' + str(freq)\n",
      "        print(outStr)"
     ],
     "language": "python",
     "metadata": {},
     "outputs": [
      {
       "output_type": "stream",
       "stream": "stdout",
       "text": [
        "BR,SA\tUS,NA\t19792\n",
        "BR,SA\tES,EU\t2858\n",
        "BR,SA\tIT,EU\t2569\n",
        "BR,SA\tFR,EU\t646\n",
        "BR,SA\tEU,EU\t623\n",
        "EC,SA\tEU,EU\t12583\n",
        "EC,SA\tUS,NA\t3949\n",
        "EC,SA\tES,EU\t1757\n",
        "EC,SA\tIT,EU\t1222\n",
        "EC,SA\tPT,EU\t718\n",
        "AR,SA\tUS,NA\t18904\n",
        "AR,SA\tIT,EU\t5232\n",
        "AR,SA\tES,EU\t2397\n",
        "AR,SA\tMX,NA\t1465\n",
        "AR,SA\tEU,EU\t1018\n",
        "UY,SA\tUS,NA\t16\n",
        "UY,SA\tAU,OC\t12\n",
        "UY,SA\tIR,AS\t2\n",
        "UY,SA\tNA,AF\t2\n"
       ]
      }
     ],
     "prompt_number": 30
    },
    {
     "cell_type": "code",
     "collapsed": false,
     "input": [
      "sList = sorted(majorCircuitISPFreqMap.items(), key = lambda t : t[1], reverse=True)\n",
      "for extKey, freq in sList[0:20]:\n",
      "    outStr = extKey.replace('::',',') + '|' + str(freq)\n",
      "    print(outStr)\n",
      "    "
     ],
     "language": "python",
     "metadata": {},
     "outputs": [
      {
       "output_type": "stream",
       "stream": "stdout",
       "text": [
        "Level 3 Communications, Inc.,US,NA|25382\n",
        "TeliaSonera International Carrier,EU,EU|14219\n",
        "TELECOM ITALIA SPARKLE S.p.A.,IT,EU|9023\n",
        "Telefonica Backbone Autonomous System,ES,EU|7012\n",
        "Tinet SpA,US,NA|2791\n",
        "Florida International University,US,NA|2555\n",
        "None,US,NA|2206\n",
        "Sprint,US,NA|1978\n",
        "NTT America, Inc.,US,NA|1601\n",
        "Tinet SpA,FR,EU|1096\n",
        "GlobeNet Cabos Submarinos VZLA, S.A.,US,NA|1092\n",
        "Uninet S.A. de C.V.,MX,NA|1010\n",
        "TATA COMMUNICATIONS (AMERICA) INC,US,NA|943\n",
        "MCI Communications Services, Inc. d/b/a Verizon Business,US,NA|825\n",
        "PT Comunicacoes S A,PT,EU|718\n",
        "Columbus Networks USA, Inc.,US,NA|656\n",
        "Cogent Communications,US,NA|628\n",
        "Eweka Internet Services B.V.,US,NA|607\n",
        "TELECOM ITALIA SPARKLE S.p.A.,A2,--|491\n",
        "None,MX,NA|486\n"
       ]
      }
     ],
     "prompt_number": 35
    },
    {
     "cell_type": "code",
     "collapsed": false,
     "input": [],
     "language": "python",
     "metadata": {},
     "outputs": []
    }
   ],
   "metadata": {}
  }
 ]
}